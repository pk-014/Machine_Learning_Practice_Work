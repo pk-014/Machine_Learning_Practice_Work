








import numpy as np
import pandas as pd
import matplotlib.pyplot as plt
%matplotlib inline
import seaborn as sns





df=pd.read_csv('spam_ham_dataset.csv')


df.head() # 0 for ham, 1 for spam


df.info()


df.drop(['Unnamed: 0','label'],axis=1,inplace=True)


df.head()





df['label_num'].value_counts()


sns.countplot(x=df['label_num'])





from sklearn.feature_extraction.text import CountVectorizer


X=df['text']
y=df['label_num']
vec=CountVectorizer()
X_count=vec.fit_transform(X)





from sklearn.model_selection import train_test_split


X_train, X_test, y_train, y_test =train_test_split(X_count,y,test_size=0.25,random_state=42,stratify=y)





from sklearn.naive_bayes import MultinomialNB


model=MultinomialNB()





model.fit(X_train,y_train)


predictions=model.predict(X_test)


predicted_df=pd.DataFrame({'Predicted':predictions,'Actual':y_test})


predicted_df.head(10)





from sklearn.metrics import ConfusionMatrixDisplay,confusion_matrix,classification_report


print(classification_report(y_test,predictions))


cm=confusion_matrix(y_test,predictions)
disp=ConfusionMatrixDisplay(cm,display_labels=['ham','spam'])
disp.plot()





mail="""Subject: Congratulations! You have won a free trip to Hawaii! Body: Dear Valued Customer,

You are one of the lucky winners of our monthly sweepstakes! You have won a free trip to Hawaii for two, including airfare, hotel, and meals. All you have to do is reply to this email with your full name, address, phone number, and credit card details to claim your prize. Hurry, this offer expires in 24 hours!

This is a once-in-a-lifetime opportunity to enjoy the sun, sand, and surf of Hawaii. Don’t miss this chance to make your dreams come true. Reply now and pack your bags!

Sincerely, The Travel Club"""


mail_count=vec.transform([mail])


if model.predict(mail_count)==1:
    print('Given mail is Spam')
else:
    print('Given mail is not Spam')
