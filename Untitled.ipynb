{
 "cells": [
  {
   "cell_type": "code",
   "execution_count": 1,
   "id": "f8c67968-2356-40f6-8a7e-a15e327a988e",
   "metadata": {},
   "outputs": [],
   "source": [
    "import pandas as pd"
   ]
  },
  {
   "cell_type": "code",
   "execution_count": 2,
   "id": "d05f83d8-b42d-4bd8-b55e-fa3d146dd348",
   "metadata": {},
   "outputs": [],
   "source": [
    "df=pd.read_csv(\"1st Provisional Merit List.xlsx - 11433-Provisional Merit List (1).csv\")"
   ]
  },
  {
   "cell_type": "code",
   "execution_count": 17,
   "id": "94d9ffe3-03c3-4f41-8ce2-6603a356056c",
   "metadata": {},
   "outputs": [
    {
     "data": {
      "text/html": [
       "<div>\n",
       "<style scoped>\n",
       "    .dataframe tbody tr th:only-of-type {\n",
       "        vertical-align: middle;\n",
       "    }\n",
       "\n",
       "    .dataframe tbody tr th {\n",
       "        vertical-align: top;\n",
       "    }\n",
       "\n",
       "    .dataframe thead th {\n",
       "        text-align: right;\n",
       "    }\n",
       "</style>\n",
       "<table border=\"1\" class=\"dataframe\">\n",
       "  <thead>\n",
       "    <tr style=\"text-align: right;\">\n",
       "      <th></th>\n",
       "      <th>Full Name</th>\n",
       "      <th>Father Name</th>\n",
       "      <th>CNIC</th>\n",
       "      <th>Enrollment No</th>\n",
       "      <th>Degree Title</th>\n",
       "      <th>Department</th>\n",
       "      <th>Campus</th>\n",
       "      <th>Year of Student</th>\n",
       "      <th>HSC Percentage</th>\n",
       "      <th>CGPA</th>\n",
       "    </tr>\n",
       "  </thead>\n",
       "  <tbody>\n",
       "    <tr>\n",
       "      <th>4915</th>\n",
       "      <td>ASAD</td>\n",
       "      <td>MUHAMMAD NAEEM</td>\n",
       "      <td>3840185943709</td>\n",
       "      <td>22-UE-02295</td>\n",
       "      <td>BS (Hons)</td>\n",
       "      <td>Computer Science</td>\n",
       "      <td>DIVISION OF S&amp;T</td>\n",
       "      <td>1</td>\n",
       "      <td>94.45</td>\n",
       "      <td>3.69</td>\n",
       "    </tr>\n",
       "  </tbody>\n",
       "</table>\n",
       "</div>"
      ],
      "text/plain": [
       "     Full Name     Father Name           CNIC Enrollment No Degree Title  \\\n",
       "4915      ASAD  MUHAMMAD NAEEM  3840185943709   22-UE-02295    BS (Hons)   \n",
       "\n",
       "            Department           Campus  Year of Student  HSC Percentage  CGPA  \n",
       "4915  Computer Science  DIVISION OF S&T                1           94.45  3.69  "
      ]
     },
     "execution_count": 17,
     "metadata": {},
     "output_type": "execute_result"
    }
   ],
   "source": [
    "df[df['CNIC']==3840185943709]"
   ]
  },
  {
   "cell_type": "code",
   "execution_count": null,
   "id": "a5f64859-41f6-46dd-9a8c-a6f1cc1e1833",
   "metadata": {},
   "outputs": [],
   "source": []
  }
 ],
 "metadata": {
  "kernelspec": {
   "display_name": "Python 3 (ipykernel)",
   "language": "python",
   "name": "python3"
  },
  "language_info": {
   "codemirror_mode": {
    "name": "ipython",
    "version": 3
   },
   "file_extension": ".py",
   "mimetype": "text/x-python",
   "name": "python",
   "nbconvert_exporter": "python",
   "pygments_lexer": "ipython3",
   "version": "3.11.1"
  }
 },
 "nbformat": 4,
 "nbformat_minor": 5
}
