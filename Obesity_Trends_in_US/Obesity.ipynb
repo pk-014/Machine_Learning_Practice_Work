{
 "cells": [
  {
   "cell_type": "code",
   "execution_count": 38,
   "id": "6bdf80b9-e8f8-48cc-9841-40f96a357b05",
   "metadata": {},
   "outputs": [],
   "source": [
    "import numpy as np\n",
    "import pandas as pd\n",
    "import seaborn as sns"
   ]
  },
  {
   "cell_type": "code",
   "execution_count": 39,
   "id": "5543ab57-d399-407b-b578-642bec2f1553",
   "metadata": {},
   "outputs": [],
   "source": [
    "data=pd.read_csv('Nutrition__Physical_Activity__and_Obesity_-_Behavioral_Risk_Factor_Surveillance_System.csv')"
   ]
  },
  {
   "cell_type": "code",
   "execution_count": 40,
   "id": "dfb4443a-83c7-4584-b606-7604d248a688",
   "metadata": {},
   "outputs": [
    {
     "data": {
      "text/html": [
       "<div>\n",
       "<style scoped>\n",
       "    .dataframe tbody tr th:only-of-type {\n",
       "        vertical-align: middle;\n",
       "    }\n",
       "\n",
       "    .dataframe tbody tr th {\n",
       "        vertical-align: top;\n",
       "    }\n",
       "\n",
       "    .dataframe thead th {\n",
       "        text-align: right;\n",
       "    }\n",
       "</style>\n",
       "<table border=\"1\" class=\"dataframe\">\n",
       "  <thead>\n",
       "    <tr style=\"text-align: right;\">\n",
       "      <th></th>\n",
       "      <th>YearStart</th>\n",
       "      <th>YearEnd</th>\n",
       "      <th>LocationAbbr</th>\n",
       "      <th>LocationDesc</th>\n",
       "      <th>Datasource</th>\n",
       "      <th>Class</th>\n",
       "      <th>Topic</th>\n",
       "      <th>Question</th>\n",
       "      <th>Data_Value_Unit</th>\n",
       "      <th>Data_Value_Type</th>\n",
       "      <th>...</th>\n",
       "      <th>GeoLocation</th>\n",
       "      <th>ClassID</th>\n",
       "      <th>TopicID</th>\n",
       "      <th>QuestionID</th>\n",
       "      <th>DataValueTypeID</th>\n",
       "      <th>LocationID</th>\n",
       "      <th>StratificationCategory1</th>\n",
       "      <th>Stratification1</th>\n",
       "      <th>StratificationCategoryId1</th>\n",
       "      <th>StratificationID1</th>\n",
       "    </tr>\n",
       "  </thead>\n",
       "  <tbody>\n",
       "    <tr>\n",
       "      <th>0</th>\n",
       "      <td>2011</td>\n",
       "      <td>2011</td>\n",
       "      <td>AL</td>\n",
       "      <td>Alabama</td>\n",
       "      <td>Behavioral Risk Factor Surveillance System</td>\n",
       "      <td>Obesity / Weight Status</td>\n",
       "      <td>Obesity / Weight Status</td>\n",
       "      <td>Percent of adults aged 18 years and older who ...</td>\n",
       "      <td>NaN</td>\n",
       "      <td>Value</td>\n",
       "      <td>...</td>\n",
       "      <td>(32.84057112200048, -86.63186076199969)</td>\n",
       "      <td>OWS</td>\n",
       "      <td>OWS1</td>\n",
       "      <td>Q036</td>\n",
       "      <td>VALUE</td>\n",
       "      <td>1</td>\n",
       "      <td>Total</td>\n",
       "      <td>Total</td>\n",
       "      <td>OVR</td>\n",
       "      <td>OVERALL</td>\n",
       "    </tr>\n",
       "    <tr>\n",
       "      <th>1</th>\n",
       "      <td>2011</td>\n",
       "      <td>2011</td>\n",
       "      <td>AL</td>\n",
       "      <td>Alabama</td>\n",
       "      <td>Behavioral Risk Factor Surveillance System</td>\n",
       "      <td>Obesity / Weight Status</td>\n",
       "      <td>Obesity / Weight Status</td>\n",
       "      <td>Percent of adults aged 18 years and older who ...</td>\n",
       "      <td>NaN</td>\n",
       "      <td>Value</td>\n",
       "      <td>...</td>\n",
       "      <td>(32.84057112200048, -86.63186076199969)</td>\n",
       "      <td>OWS</td>\n",
       "      <td>OWS1</td>\n",
       "      <td>Q036</td>\n",
       "      <td>VALUE</td>\n",
       "      <td>1</td>\n",
       "      <td>Gender</td>\n",
       "      <td>Male</td>\n",
       "      <td>GEN</td>\n",
       "      <td>MALE</td>\n",
       "    </tr>\n",
       "    <tr>\n",
       "      <th>2</th>\n",
       "      <td>2011</td>\n",
       "      <td>2011</td>\n",
       "      <td>AL</td>\n",
       "      <td>Alabama</td>\n",
       "      <td>Behavioral Risk Factor Surveillance System</td>\n",
       "      <td>Obesity / Weight Status</td>\n",
       "      <td>Obesity / Weight Status</td>\n",
       "      <td>Percent of adults aged 18 years and older who ...</td>\n",
       "      <td>NaN</td>\n",
       "      <td>Value</td>\n",
       "      <td>...</td>\n",
       "      <td>(32.84057112200048, -86.63186076199969)</td>\n",
       "      <td>OWS</td>\n",
       "      <td>OWS1</td>\n",
       "      <td>Q036</td>\n",
       "      <td>VALUE</td>\n",
       "      <td>1</td>\n",
       "      <td>Gender</td>\n",
       "      <td>Female</td>\n",
       "      <td>GEN</td>\n",
       "      <td>FEMALE</td>\n",
       "    </tr>\n",
       "    <tr>\n",
       "      <th>3</th>\n",
       "      <td>2011</td>\n",
       "      <td>2011</td>\n",
       "      <td>AL</td>\n",
       "      <td>Alabama</td>\n",
       "      <td>Behavioral Risk Factor Surveillance System</td>\n",
       "      <td>Obesity / Weight Status</td>\n",
       "      <td>Obesity / Weight Status</td>\n",
       "      <td>Percent of adults aged 18 years and older who ...</td>\n",
       "      <td>NaN</td>\n",
       "      <td>Value</td>\n",
       "      <td>...</td>\n",
       "      <td>(32.84057112200048, -86.63186076199969)</td>\n",
       "      <td>OWS</td>\n",
       "      <td>OWS1</td>\n",
       "      <td>Q036</td>\n",
       "      <td>VALUE</td>\n",
       "      <td>1</td>\n",
       "      <td>Education</td>\n",
       "      <td>Less than high school</td>\n",
       "      <td>EDU</td>\n",
       "      <td>EDUHS</td>\n",
       "    </tr>\n",
       "    <tr>\n",
       "      <th>4</th>\n",
       "      <td>2011</td>\n",
       "      <td>2011</td>\n",
       "      <td>AL</td>\n",
       "      <td>Alabama</td>\n",
       "      <td>Behavioral Risk Factor Surveillance System</td>\n",
       "      <td>Obesity / Weight Status</td>\n",
       "      <td>Obesity / Weight Status</td>\n",
       "      <td>Percent of adults aged 18 years and older who ...</td>\n",
       "      <td>NaN</td>\n",
       "      <td>Value</td>\n",
       "      <td>...</td>\n",
       "      <td>(32.84057112200048, -86.63186076199969)</td>\n",
       "      <td>OWS</td>\n",
       "      <td>OWS1</td>\n",
       "      <td>Q036</td>\n",
       "      <td>VALUE</td>\n",
       "      <td>1</td>\n",
       "      <td>Education</td>\n",
       "      <td>High school graduate</td>\n",
       "      <td>EDU</td>\n",
       "      <td>EDUHSGRAD</td>\n",
       "    </tr>\n",
       "  </tbody>\n",
       "</table>\n",
       "<p>5 rows × 33 columns</p>\n",
       "</div>"
      ],
      "text/plain": [
       "   YearStart  YearEnd LocationAbbr LocationDesc  \\\n",
       "0       2011     2011           AL      Alabama   \n",
       "1       2011     2011           AL      Alabama   \n",
       "2       2011     2011           AL      Alabama   \n",
       "3       2011     2011           AL      Alabama   \n",
       "4       2011     2011           AL      Alabama   \n",
       "\n",
       "                                   Datasource                    Class  \\\n",
       "0  Behavioral Risk Factor Surveillance System  Obesity / Weight Status   \n",
       "1  Behavioral Risk Factor Surveillance System  Obesity / Weight Status   \n",
       "2  Behavioral Risk Factor Surveillance System  Obesity / Weight Status   \n",
       "3  Behavioral Risk Factor Surveillance System  Obesity / Weight Status   \n",
       "4  Behavioral Risk Factor Surveillance System  Obesity / Weight Status   \n",
       "\n",
       "                     Topic                                           Question  \\\n",
       "0  Obesity / Weight Status  Percent of adults aged 18 years and older who ...   \n",
       "1  Obesity / Weight Status  Percent of adults aged 18 years and older who ...   \n",
       "2  Obesity / Weight Status  Percent of adults aged 18 years and older who ...   \n",
       "3  Obesity / Weight Status  Percent of adults aged 18 years and older who ...   \n",
       "4  Obesity / Weight Status  Percent of adults aged 18 years and older who ...   \n",
       "\n",
       "   Data_Value_Unit Data_Value_Type  ...  \\\n",
       "0              NaN           Value  ...   \n",
       "1              NaN           Value  ...   \n",
       "2              NaN           Value  ...   \n",
       "3              NaN           Value  ...   \n",
       "4              NaN           Value  ...   \n",
       "\n",
       "                               GeoLocation  ClassID TopicID QuestionID  \\\n",
       "0  (32.84057112200048, -86.63186076199969)      OWS    OWS1       Q036   \n",
       "1  (32.84057112200048, -86.63186076199969)      OWS    OWS1       Q036   \n",
       "2  (32.84057112200048, -86.63186076199969)      OWS    OWS1       Q036   \n",
       "3  (32.84057112200048, -86.63186076199969)      OWS    OWS1       Q036   \n",
       "4  (32.84057112200048, -86.63186076199969)      OWS    OWS1       Q036   \n",
       "\n",
       "   DataValueTypeID  LocationID  StratificationCategory1  \\\n",
       "0            VALUE           1                    Total   \n",
       "1            VALUE           1                   Gender   \n",
       "2            VALUE           1                   Gender   \n",
       "3            VALUE           1                Education   \n",
       "4            VALUE           1                Education   \n",
       "\n",
       "         Stratification1 StratificationCategoryId1 StratificationID1  \n",
       "0                  Total                       OVR           OVERALL  \n",
       "1                   Male                       GEN              MALE  \n",
       "2                 Female                       GEN            FEMALE  \n",
       "3  Less than high school                       EDU             EDUHS  \n",
       "4   High school graduate                       EDU         EDUHSGRAD  \n",
       "\n",
       "[5 rows x 33 columns]"
      ]
     },
     "execution_count": 40,
     "metadata": {},
     "output_type": "execute_result"
    }
   ],
   "source": [
    "data.head()"
   ]
  },
  {
   "cell_type": "code",
   "execution_count": 41,
   "id": "0263375b-fffe-4bd7-92d9-9a6a08174c35",
   "metadata": {},
   "outputs": [
    {
     "name": "stdout",
     "output_type": "stream",
     "text": [
      "<class 'pandas.core.frame.DataFrame'>\n",
      "RangeIndex: 53392 entries, 0 to 53391\n",
      "Data columns (total 33 columns):\n",
      " #   Column                      Non-Null Count  Dtype  \n",
      "---  ------                      --------------  -----  \n",
      " 0   YearStart                   53392 non-null  int64  \n",
      " 1   YearEnd                     53392 non-null  int64  \n",
      " 2   LocationAbbr                53392 non-null  object \n",
      " 3   LocationDesc                53392 non-null  object \n",
      " 4   Datasource                  53392 non-null  object \n",
      " 5   Class                       53392 non-null  object \n",
      " 6   Topic                       53392 non-null  object \n",
      " 7   Question                    53392 non-null  object \n",
      " 8   Data_Value_Unit             0 non-null      float64\n",
      " 9   Data_Value_Type             53392 non-null  object \n",
      " 10  Data_Value                  48346 non-null  float64\n",
      " 11  Data_Value_Alt              48346 non-null  float64\n",
      " 12  Data_Value_Footnote_Symbol  5046 non-null   object \n",
      " 13  Data_Value_Footnote         5046 non-null   object \n",
      " 14  Low_Confidence_Limit        48346 non-null  float64\n",
      " 15  High_Confidence_Limit       48346 non-null  float64\n",
      " 16  Sample_Size                 48346 non-null  float64\n",
      " 17  Total                       1907 non-null   object \n",
      " 18  Age(years)                  11438 non-null  object \n",
      " 19  Education                   7628 non-null   object \n",
      " 20  Gender                      3814 non-null   object \n",
      " 21  Income                      13349 non-null  object \n",
      " 22  Race/Ethnicity              15256 non-null  object \n",
      " 23  GeoLocation                 52384 non-null  object \n",
      " 24  ClassID                     53392 non-null  object \n",
      " 25  TopicID                     53392 non-null  object \n",
      " 26  QuestionID                  53392 non-null  object \n",
      " 27  DataValueTypeID             53392 non-null  object \n",
      " 28  LocationID                  53392 non-null  int64  \n",
      " 29  StratificationCategory1     53392 non-null  object \n",
      " 30  Stratification1             53392 non-null  object \n",
      " 31  StratificationCategoryId1   53392 non-null  object \n",
      " 32  StratificationID1           53392 non-null  object \n",
      "dtypes: float64(6), int64(3), object(24)\n",
      "memory usage: 13.4+ MB\n"
     ]
    }
   ],
   "source": [
    "data.info()"
   ]
  },
  {
   "cell_type": "code",
   "execution_count": 42,
   "id": "e51dc880-cf13-49a9-ad94-c97abcf62d83",
   "metadata": {},
   "outputs": [],
   "source": [
    "from sklearn.decomposition import PCA"
   ]
  },
  {
   "cell_type": "code",
   "execution_count": 81,
   "id": "58f94965-0c1b-4b82-87a6-d96fbd46fa30",
   "metadata": {},
   "outputs": [],
   "source": [
    "pca=PCA(n_components=27)"
   ]
  },
  {
   "cell_type": "code",
   "execution_count": 44,
   "id": "487824b6-37f2-4445-85a2-ba79ed810148",
   "metadata": {},
   "outputs": [],
   "source": [
    "from sklearn.preprocessing import StandardScaler\n",
    "from sklearn.preprocessing import LabelEncoder"
   ]
  },
  {
   "cell_type": "code",
   "execution_count": 45,
   "id": "1e3f127e-a69d-4d45-8106-c700bfdf196c",
   "metadata": {},
   "outputs": [],
   "source": [
    "enc=LabelEncoder()"
   ]
  },
  {
   "cell_type": "code",
   "execution_count": 46,
   "id": "6cd51835-c7ee-4e00-a294-103812397ea6",
   "metadata": {},
   "outputs": [],
   "source": [
    "data['LocationAbbr']=enc.fit_transform(data['LocationAbbr'])"
   ]
  },
  {
   "cell_type": "code",
   "execution_count": 47,
   "id": "cd410189-2e41-4916-9056-de89c3be471f",
   "metadata": {},
   "outputs": [],
   "source": [
    "data['LocationDesc']=enc.fit_transform(data['LocationDesc'])"
   ]
  },
  {
   "cell_type": "code",
   "execution_count": 48,
   "id": "9f7ddfc8-2fad-4834-8e67-9ef5a225012d",
   "metadata": {},
   "outputs": [],
   "source": [
    "data['Datasource']=enc.fit_transform(data['Datasource'])"
   ]
  },
  {
   "cell_type": "code",
   "execution_count": 49,
   "id": "6f7b51fd-3a93-4a4b-8462-3e92f784ec03",
   "metadata": {},
   "outputs": [],
   "source": [
    "data['Class']=enc.fit_transform(data['Class'])"
   ]
  },
  {
   "cell_type": "code",
   "execution_count": 50,
   "id": "501f17e3-6352-46b9-a778-6c9b006a415a",
   "metadata": {},
   "outputs": [],
   "source": [
    "data['Topic']=enc.fit_transform(data['Topic'])"
   ]
  },
  {
   "cell_type": "code",
   "execution_count": 51,
   "id": "4dac21c6-25cf-4ee7-8454-0891ce9ad5ed",
   "metadata": {},
   "outputs": [],
   "source": [
    "data['Question']=enc.fit_transform(data['Question'])"
   ]
  },
  {
   "cell_type": "code",
   "execution_count": 52,
   "id": "ecf90444-83bf-464a-9ab1-2a2a7bdfe107",
   "metadata": {},
   "outputs": [],
   "source": [
    "data['Data_Value_Type']=enc.fit_transform(data['Data_Value_Type'])"
   ]
  },
  {
   "cell_type": "code",
   "execution_count": 53,
   "id": "a76f0b8b-d627-4b78-9ccf-b7ef2d58edc0",
   "metadata": {},
   "outputs": [],
   "source": [
    "data['Data_Value_Footnote_Symbol']=enc.fit_transform(data['Data_Value_Footnote_Symbol'])"
   ]
  },
  {
   "cell_type": "code",
   "execution_count": 54,
   "id": "f0bde43f-d15a-496a-8124-69ad554c9c67",
   "metadata": {},
   "outputs": [],
   "source": [
    "data['Data_Value_Footnote']=enc.fit_transform(data['Data_Value_Footnote'])"
   ]
  },
  {
   "cell_type": "code",
   "execution_count": 55,
   "id": "1597e0c2-6e31-4503-96a4-9306e4cfbf2f",
   "metadata": {},
   "outputs": [],
   "source": [
    "data['Total']=enc.fit_transform(data['Total'])"
   ]
  },
  {
   "cell_type": "code",
   "execution_count": 56,
   "id": "304c9123-775f-4334-a974-61fbc28e86cf",
   "metadata": {},
   "outputs": [],
   "source": [
    "data['Age(years)']=enc.fit_transform(data['Age(years)'])"
   ]
  },
  {
   "cell_type": "code",
   "execution_count": 57,
   "id": "fc60e945-f61b-4146-aaa8-fab90bd68be2",
   "metadata": {},
   "outputs": [],
   "source": [
    "data['Education']=enc.fit_transform(data['Education'])"
   ]
  },
  {
   "cell_type": "code",
   "execution_count": 58,
   "id": "736acad2-5c46-4f20-8287-b84d2154db22",
   "metadata": {},
   "outputs": [],
   "source": [
    "data['Gender']=enc.fit_transform(data['Gender'])"
   ]
  },
  {
   "cell_type": "code",
   "execution_count": 59,
   "id": "a9a91571-ce28-45f8-bceb-6bd91fb97657",
   "metadata": {},
   "outputs": [],
   "source": [
    "data['Income']=enc.fit_transform(data['Income'])"
   ]
  },
  {
   "cell_type": "code",
   "execution_count": 60,
   "id": "41721d1b-559c-4ea3-ba47-73ff42bd9dbe",
   "metadata": {},
   "outputs": [],
   "source": [
    "data['Race/Ethnicity']=enc.fit_transform(data['Race/Ethnicity'])"
   ]
  },
  {
   "cell_type": "code",
   "execution_count": 61,
   "id": "fe6d9821-ed1d-403e-9a3e-5769ade5a163",
   "metadata": {},
   "outputs": [],
   "source": [
    "data['GeoLocation']=enc.fit_transform(data['GeoLocation'])"
   ]
  },
  {
   "cell_type": "code",
   "execution_count": 62,
   "id": "67a28656-9455-4141-a0ec-dd20b963c63a",
   "metadata": {},
   "outputs": [],
   "source": [
    "data['ClassID']=enc.fit_transform(data['ClassID'])"
   ]
  },
  {
   "cell_type": "code",
   "execution_count": 63,
   "id": "3dc018e8-cf24-4a61-86e9-07a91f5eccb9",
   "metadata": {},
   "outputs": [],
   "source": [
    "data['TopicID']=enc.fit_transform(data['TopicID'])"
   ]
  },
  {
   "cell_type": "code",
   "execution_count": 64,
   "id": "7c31691b-4e64-4a31-b47f-6f802cf3f43b",
   "metadata": {},
   "outputs": [],
   "source": [
    "data['QuestionID']=enc.fit_transform(data['QuestionID'])"
   ]
  },
  {
   "cell_type": "code",
   "execution_count": 65,
   "id": "5a179762-1506-4780-a10d-9f994e4d17a3",
   "metadata": {},
   "outputs": [],
   "source": [
    "data['DataValueTypeID']=enc.fit_transform(data['DataValueTypeID'])"
   ]
  },
  {
   "cell_type": "code",
   "execution_count": 66,
   "id": "f3c98d7c-3ff1-4ac6-afc4-8b8d466616be",
   "metadata": {},
   "outputs": [],
   "source": [
    "data['StratificationCategory1']=enc.fit_transform(data['StratificationCategory1'])"
   ]
  },
  {
   "cell_type": "code",
   "execution_count": 67,
   "id": "fb6907a4-17a4-4584-b0f8-83a71f93d829",
   "metadata": {},
   "outputs": [],
   "source": [
    "data['StratificationCategoryId1']=enc.fit_transform(data['StratificationCategoryId1'])"
   ]
  },
  {
   "cell_type": "code",
   "execution_count": 68,
   "id": "0872c765-6e61-4890-9f82-da7b79017ff7",
   "metadata": {},
   "outputs": [],
   "source": [
    "data['StratificationID1']=enc.fit_transform(data['StratificationID1'])"
   ]
  },
  {
   "cell_type": "code",
   "execution_count": 76,
   "id": "a2bcaf36-9fe8-4167-9e03-531842d6e22e",
   "metadata": {},
   "outputs": [],
   "source": [
    "data['Stratification1']=enc.fit_transform(data['Stratification1'])"
   ]
  },
  {
   "cell_type": "code",
   "execution_count": 77,
   "id": "0075d191-f49d-4854-bebf-143f48ce5919",
   "metadata": {},
   "outputs": [],
   "source": [
    "data.dropna(inplace=True,axis=1)"
   ]
  },
  {
   "cell_type": "code",
   "execution_count": 78,
   "id": "d43c6110-cbd3-4cee-bac9-486269178f61",
   "metadata": {},
   "outputs": [
    {
     "name": "stdout",
     "output_type": "stream",
     "text": [
      "<class 'pandas.core.frame.DataFrame'>\n",
      "RangeIndex: 53392 entries, 0 to 53391\n",
      "Data columns (total 27 columns):\n",
      " #   Column                      Non-Null Count  Dtype\n",
      "---  ------                      --------------  -----\n",
      " 0   YearStart                   53392 non-null  int64\n",
      " 1   YearEnd                     53392 non-null  int64\n",
      " 2   LocationAbbr                53392 non-null  int32\n",
      " 3   LocationDesc                53392 non-null  int32\n",
      " 4   Datasource                  53392 non-null  int32\n",
      " 5   Class                       53392 non-null  int32\n",
      " 6   Topic                       53392 non-null  int32\n",
      " 7   Question                    53392 non-null  int32\n",
      " 8   Data_Value_Type             53392 non-null  int32\n",
      " 9   Data_Value_Footnote_Symbol  53392 non-null  int32\n",
      " 10  Data_Value_Footnote         53392 non-null  int32\n",
      " 11  Total                       53392 non-null  int32\n",
      " 12  Age(years)                  53392 non-null  int32\n",
      " 13  Education                   53392 non-null  int32\n",
      " 14  Gender                      53392 non-null  int32\n",
      " 15  Income                      53392 non-null  int32\n",
      " 16  Race/Ethnicity              53392 non-null  int32\n",
      " 17  GeoLocation                 53392 non-null  int32\n",
      " 18  ClassID                     53392 non-null  int32\n",
      " 19  TopicID                     53392 non-null  int32\n",
      " 20  QuestionID                  53392 non-null  int32\n",
      " 21  DataValueTypeID             53392 non-null  int32\n",
      " 22  LocationID                  53392 non-null  int64\n",
      " 23  StratificationCategory1     53392 non-null  int32\n",
      " 24  Stratification1             53392 non-null  int32\n",
      " 25  StratificationCategoryId1   53392 non-null  int32\n",
      " 26  StratificationID1           53392 non-null  int32\n",
      "dtypes: int32(24), int64(3)\n",
      "memory usage: 6.1 MB\n"
     ]
    }
   ],
   "source": [
    "data.info()"
   ]
  },
  {
   "cell_type": "code",
   "execution_count": 79,
   "id": "4addad5a-93e3-4b0d-9a31-e3e297de22a7",
   "metadata": {},
   "outputs": [],
   "source": [
    "scaler=StandardScaler()\n",
    "scaler.fit(data)\n",
    "scaled=scaler.transform(data)"
   ]
  },
  {
   "cell_type": "code",
   "execution_count": 82,
   "id": "0093a345-6967-4456-b40a-6dbc18241ed4",
   "metadata": {},
   "outputs": [],
   "source": [
    "pca.fit(scaled)\n",
    "pca_data=pca.transform(scaled)"
   ]
  },
  {
   "cell_type": "code",
   "execution_count": 86,
   "id": "11b8b048-9fbb-4a26-9526-198183369b2a",
   "metadata": {},
   "outputs": [],
   "source": [
    "variance_data=pca.explained_variance_ratio_.tolist()"
   ]
  },
  {
   "cell_type": "code",
   "execution_count": 96,
   "id": "935e2859-d145-451c-a248-fea394d29cf2",
   "metadata": {},
   "outputs": [
    {
     "data": {
      "text/plain": [
       "0.9820037717716478"
      ]
     },
     "execution_count": 96,
     "metadata": {},
     "output_type": "execute_result"
    }
   ],
   "source": [
    "sum(variance_data[:12])"
   ]
  },
  {
   "cell_type": "code",
   "execution_count": 93,
   "id": "699f9bf0-78ae-4508-b665-9fae1cb98b62",
   "metadata": {},
   "outputs": [],
   "source": [
    "dim_red=PCA(n_components=12)"
   ]
  },
  {
   "cell_type": "code",
   "execution_count": 94,
   "id": "ea7d5bda-06b1-4b4b-9eaa-e58b9d205bfb",
   "metadata": {},
   "outputs": [],
   "source": [
    "dim_red.fit(scaled)\n",
    "new_data=dim_red.transform(scaled)"
   ]
  },
  {
   "cell_type": "code",
   "execution_count": 95,
   "id": "f6885e28-756a-4ce2-9ce2-cc660a3b620d",
   "metadata": {},
   "outputs": [
    {
     "data": {
      "text/plain": [
       "(53392, 12)"
      ]
     },
     "execution_count": 95,
     "metadata": {},
     "output_type": "execute_result"
    }
   ],
   "source": [
    "new_data.shape"
   ]
  },
  {
   "cell_type": "code",
   "execution_count": null,
   "id": "7e2aabb4-bd3a-4cde-8134-d2c69aea948d",
   "metadata": {},
   "outputs": [],
   "source": []
  }
 ],
 "metadata": {
  "kernelspec": {
   "display_name": "Python 3 (ipykernel)",
   "language": "python",
   "name": "python3"
  },
  "language_info": {
   "codemirror_mode": {
    "name": "ipython",
    "version": 3
   },
   "file_extension": ".py",
   "mimetype": "text/x-python",
   "name": "python",
   "nbconvert_exporter": "python",
   "pygments_lexer": "ipython3",
   "version": "3.11.1"
  }
 },
 "nbformat": 4,
 "nbformat_minor": 5
}
