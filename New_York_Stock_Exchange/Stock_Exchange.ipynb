{
 "cells": [
  {
   "cell_type": "code",
   "execution_count": 1,
   "id": "6f1935fd-27b7-4bd6-9f82-dc7211059c07",
   "metadata": {},
   "outputs": [],
   "source": [
    "import numpy as np\n",
    "import pandas as pd\n",
    "import seaborn as sns"
   ]
  },
  {
   "cell_type": "code",
   "execution_count": 29,
   "id": "1b839835-42e8-4b2d-bde0-2cebdb5221f0",
   "metadata": {},
   "outputs": [],
   "source": [
    "data=pd.read_csv('fundamentals.csv')\n",
    "data.drop(['Unnamed: 0','Ticker Symbol','Period Ending'],axis=1,inplace=True)"
   ]
  },
  {
   "cell_type": "code",
   "execution_count": 30,
   "id": "89975835-ad73-477a-ba58-e7090036660c",
   "metadata": {},
   "outputs": [
    {
     "data": {
      "text/html": [
       "<div>\n",
       "<style scoped>\n",
       "    .dataframe tbody tr th:only-of-type {\n",
       "        vertical-align: middle;\n",
       "    }\n",
       "\n",
       "    .dataframe tbody tr th {\n",
       "        vertical-align: top;\n",
       "    }\n",
       "\n",
       "    .dataframe thead th {\n",
       "        text-align: right;\n",
       "    }\n",
       "</style>\n",
       "<table border=\"1\" class=\"dataframe\">\n",
       "  <thead>\n",
       "    <tr style=\"text-align: right;\">\n",
       "      <th></th>\n",
       "      <th>Accounts Payable</th>\n",
       "      <th>Accounts Receivable</th>\n",
       "      <th>Add'l income/expense items</th>\n",
       "      <th>After Tax ROE</th>\n",
       "      <th>Capital Expenditures</th>\n",
       "      <th>Capital Surplus</th>\n",
       "      <th>Cash Ratio</th>\n",
       "      <th>Cash and Cash Equivalents</th>\n",
       "      <th>Changes in Inventories</th>\n",
       "      <th>Common Stocks</th>\n",
       "      <th>...</th>\n",
       "      <th>Total Current Assets</th>\n",
       "      <th>Total Current Liabilities</th>\n",
       "      <th>Total Equity</th>\n",
       "      <th>Total Liabilities</th>\n",
       "      <th>Total Liabilities &amp; Equity</th>\n",
       "      <th>Total Revenue</th>\n",
       "      <th>Treasury Stock</th>\n",
       "      <th>For Year</th>\n",
       "      <th>Earnings Per Share</th>\n",
       "      <th>Estimated Shares Outstanding</th>\n",
       "    </tr>\n",
       "  </thead>\n",
       "  <tbody>\n",
       "    <tr>\n",
       "      <th>0</th>\n",
       "      <td>3.068000e+09</td>\n",
       "      <td>-222000000.0</td>\n",
       "      <td>-1.961000e+09</td>\n",
       "      <td>23.0</td>\n",
       "      <td>-1.888000e+09</td>\n",
       "      <td>4.695000e+09</td>\n",
       "      <td>53.0</td>\n",
       "      <td>1.330000e+09</td>\n",
       "      <td>0.0</td>\n",
       "      <td>127000000.0</td>\n",
       "      <td>...</td>\n",
       "      <td>7.072000e+09</td>\n",
       "      <td>9.011000e+09</td>\n",
       "      <td>-7.987000e+09</td>\n",
       "      <td>2.489100e+10</td>\n",
       "      <td>1.690400e+10</td>\n",
       "      <td>2.485500e+10</td>\n",
       "      <td>-367000000.0</td>\n",
       "      <td>2012.0</td>\n",
       "      <td>-5.60</td>\n",
       "      <td>3.350000e+08</td>\n",
       "    </tr>\n",
       "    <tr>\n",
       "      <th>1</th>\n",
       "      <td>4.975000e+09</td>\n",
       "      <td>-93000000.0</td>\n",
       "      <td>-2.723000e+09</td>\n",
       "      <td>67.0</td>\n",
       "      <td>-3.114000e+09</td>\n",
       "      <td>1.059200e+10</td>\n",
       "      <td>75.0</td>\n",
       "      <td>2.175000e+09</td>\n",
       "      <td>0.0</td>\n",
       "      <td>5000000.0</td>\n",
       "      <td>...</td>\n",
       "      <td>1.432300e+10</td>\n",
       "      <td>1.380600e+10</td>\n",
       "      <td>-2.731000e+09</td>\n",
       "      <td>4.500900e+10</td>\n",
       "      <td>4.227800e+10</td>\n",
       "      <td>2.674300e+10</td>\n",
       "      <td>0.0</td>\n",
       "      <td>2013.0</td>\n",
       "      <td>-11.25</td>\n",
       "      <td>1.630222e+08</td>\n",
       "    </tr>\n",
       "    <tr>\n",
       "      <th>2</th>\n",
       "      <td>4.668000e+09</td>\n",
       "      <td>-160000000.0</td>\n",
       "      <td>-1.500000e+08</td>\n",
       "      <td>143.0</td>\n",
       "      <td>-5.311000e+09</td>\n",
       "      <td>1.513500e+10</td>\n",
       "      <td>60.0</td>\n",
       "      <td>1.768000e+09</td>\n",
       "      <td>0.0</td>\n",
       "      <td>7000000.0</td>\n",
       "      <td>...</td>\n",
       "      <td>1.175000e+10</td>\n",
       "      <td>1.340400e+10</td>\n",
       "      <td>2.021000e+09</td>\n",
       "      <td>4.120400e+10</td>\n",
       "      <td>4.322500e+10</td>\n",
       "      <td>4.265000e+10</td>\n",
       "      <td>0.0</td>\n",
       "      <td>2014.0</td>\n",
       "      <td>4.02</td>\n",
       "      <td>7.169154e+08</td>\n",
       "    </tr>\n",
       "    <tr>\n",
       "      <th>3</th>\n",
       "      <td>5.102000e+09</td>\n",
       "      <td>352000000.0</td>\n",
       "      <td>-7.080000e+08</td>\n",
       "      <td>135.0</td>\n",
       "      <td>-6.151000e+09</td>\n",
       "      <td>1.159100e+10</td>\n",
       "      <td>51.0</td>\n",
       "      <td>1.085000e+09</td>\n",
       "      <td>0.0</td>\n",
       "      <td>6000000.0</td>\n",
       "      <td>...</td>\n",
       "      <td>9.985000e+09</td>\n",
       "      <td>1.360500e+10</td>\n",
       "      <td>5.635000e+09</td>\n",
       "      <td>4.278000e+10</td>\n",
       "      <td>4.841500e+10</td>\n",
       "      <td>4.099000e+10</td>\n",
       "      <td>0.0</td>\n",
       "      <td>2015.0</td>\n",
       "      <td>11.39</td>\n",
       "      <td>6.681299e+08</td>\n",
       "    </tr>\n",
       "    <tr>\n",
       "      <th>4</th>\n",
       "      <td>2.409453e+09</td>\n",
       "      <td>-89482000.0</td>\n",
       "      <td>6.000000e+05</td>\n",
       "      <td>32.0</td>\n",
       "      <td>-2.711820e+08</td>\n",
       "      <td>5.202150e+08</td>\n",
       "      <td>23.0</td>\n",
       "      <td>5.981110e+08</td>\n",
       "      <td>-260298000.0</td>\n",
       "      <td>7000.0</td>\n",
       "      <td>...</td>\n",
       "      <td>3.184200e+09</td>\n",
       "      <td>2.559638e+09</td>\n",
       "      <td>1.210694e+09</td>\n",
       "      <td>3.403120e+09</td>\n",
       "      <td>4.613814e+09</td>\n",
       "      <td>6.205003e+09</td>\n",
       "      <td>-27095000.0</td>\n",
       "      <td>2012.0</td>\n",
       "      <td>5.29</td>\n",
       "      <td>7.328355e+07</td>\n",
       "    </tr>\n",
       "  </tbody>\n",
       "</table>\n",
       "<p>5 rows × 76 columns</p>\n",
       "</div>"
      ],
      "text/plain": [
       "   Accounts Payable  Accounts Receivable  Add'l income/expense items  \\\n",
       "0      3.068000e+09         -222000000.0               -1.961000e+09   \n",
       "1      4.975000e+09          -93000000.0               -2.723000e+09   \n",
       "2      4.668000e+09         -160000000.0               -1.500000e+08   \n",
       "3      5.102000e+09          352000000.0               -7.080000e+08   \n",
       "4      2.409453e+09          -89482000.0                6.000000e+05   \n",
       "\n",
       "   After Tax ROE  Capital Expenditures  Capital Surplus  Cash Ratio  \\\n",
       "0           23.0         -1.888000e+09     4.695000e+09        53.0   \n",
       "1           67.0         -3.114000e+09     1.059200e+10        75.0   \n",
       "2          143.0         -5.311000e+09     1.513500e+10        60.0   \n",
       "3          135.0         -6.151000e+09     1.159100e+10        51.0   \n",
       "4           32.0         -2.711820e+08     5.202150e+08        23.0   \n",
       "\n",
       "   Cash and Cash Equivalents  Changes in Inventories  Common Stocks  ...  \\\n",
       "0               1.330000e+09                     0.0    127000000.0  ...   \n",
       "1               2.175000e+09                     0.0      5000000.0  ...   \n",
       "2               1.768000e+09                     0.0      7000000.0  ...   \n",
       "3               1.085000e+09                     0.0      6000000.0  ...   \n",
       "4               5.981110e+08            -260298000.0         7000.0  ...   \n",
       "\n",
       "   Total Current Assets  Total Current Liabilities  Total Equity  \\\n",
       "0          7.072000e+09               9.011000e+09 -7.987000e+09   \n",
       "1          1.432300e+10               1.380600e+10 -2.731000e+09   \n",
       "2          1.175000e+10               1.340400e+10  2.021000e+09   \n",
       "3          9.985000e+09               1.360500e+10  5.635000e+09   \n",
       "4          3.184200e+09               2.559638e+09  1.210694e+09   \n",
       "\n",
       "   Total Liabilities  Total Liabilities & Equity  Total Revenue  \\\n",
       "0       2.489100e+10                1.690400e+10   2.485500e+10   \n",
       "1       4.500900e+10                4.227800e+10   2.674300e+10   \n",
       "2       4.120400e+10                4.322500e+10   4.265000e+10   \n",
       "3       4.278000e+10                4.841500e+10   4.099000e+10   \n",
       "4       3.403120e+09                4.613814e+09   6.205003e+09   \n",
       "\n",
       "   Treasury Stock  For Year  Earnings Per Share  Estimated Shares Outstanding  \n",
       "0    -367000000.0    2012.0               -5.60                  3.350000e+08  \n",
       "1             0.0    2013.0              -11.25                  1.630222e+08  \n",
       "2             0.0    2014.0                4.02                  7.169154e+08  \n",
       "3             0.0    2015.0               11.39                  6.681299e+08  \n",
       "4     -27095000.0    2012.0                5.29                  7.328355e+07  \n",
       "\n",
       "[5 rows x 76 columns]"
      ]
     },
     "execution_count": 30,
     "metadata": {},
     "output_type": "execute_result"
    }
   ],
   "source": [
    "data.head()"
   ]
  },
  {
   "cell_type": "code",
   "execution_count": 31,
   "id": "0a702f99-11ec-4637-8292-245ba64f1213",
   "metadata": {},
   "outputs": [
    {
     "name": "stdout",
     "output_type": "stream",
     "text": [
      "<class 'pandas.core.frame.DataFrame'>\n",
      "RangeIndex: 1781 entries, 0 to 1780\n",
      "Data columns (total 76 columns):\n",
      " #   Column                                               Non-Null Count  Dtype  \n",
      "---  ------                                               --------------  -----  \n",
      " 0   Accounts Payable                                     1781 non-null   float64\n",
      " 1   Accounts Receivable                                  1781 non-null   float64\n",
      " 2   Add'l income/expense items                           1781 non-null   float64\n",
      " 3   After Tax ROE                                        1781 non-null   float64\n",
      " 4   Capital Expenditures                                 1781 non-null   float64\n",
      " 5   Capital Surplus                                      1781 non-null   float64\n",
      " 6   Cash Ratio                                           1482 non-null   float64\n",
      " 7   Cash and Cash Equivalents                            1781 non-null   float64\n",
      " 8   Changes in Inventories                               1781 non-null   float64\n",
      " 9   Common Stocks                                        1781 non-null   float64\n",
      " 10  Cost of Revenue                                      1781 non-null   float64\n",
      " 11  Current Ratio                                        1482 non-null   float64\n",
      " 12  Deferred Asset Charges                               1781 non-null   float64\n",
      " 13  Deferred Liability Charges                           1781 non-null   float64\n",
      " 14  Depreciation                                         1781 non-null   float64\n",
      " 15  Earnings Before Interest and Tax                     1781 non-null   float64\n",
      " 16  Earnings Before Tax                                  1781 non-null   float64\n",
      " 17  Effect of Exchange Rate                              1781 non-null   float64\n",
      " 18  Equity Earnings/Loss Unconsolidated Subsidiary       1781 non-null   float64\n",
      " 19  Fixed Assets                                         1781 non-null   float64\n",
      " 20  Goodwill                                             1781 non-null   float64\n",
      " 21  Gross Margin                                         1781 non-null   float64\n",
      " 22  Gross Profit                                         1781 non-null   float64\n",
      " 23  Income Tax                                           1781 non-null   float64\n",
      " 24  Intangible Assets                                    1781 non-null   float64\n",
      " 25  Interest Expense                                     1781 non-null   float64\n",
      " 26  Inventory                                            1781 non-null   float64\n",
      " 27  Investments                                          1781 non-null   float64\n",
      " 28  Liabilities                                          1781 non-null   float64\n",
      " 29  Long-Term Debt                                       1781 non-null   float64\n",
      " 30  Long-Term Investments                                1781 non-null   float64\n",
      " 31  Minority Interest                                    1781 non-null   float64\n",
      " 32  Misc. Stocks                                         1781 non-null   float64\n",
      " 33  Net Borrowings                                       1781 non-null   float64\n",
      " 34  Net Cash Flow                                        1781 non-null   float64\n",
      " 35  Net Cash Flow-Operating                              1781 non-null   float64\n",
      " 36  Net Cash Flows-Financing                             1781 non-null   float64\n",
      " 37  Net Cash Flows-Investing                             1781 non-null   float64\n",
      " 38  Net Income                                           1781 non-null   float64\n",
      " 39  Net Income Adjustments                               1781 non-null   float64\n",
      " 40  Net Income Applicable to Common Shareholders         1781 non-null   float64\n",
      " 41  Net Income-Cont. Operations                          1781 non-null   float64\n",
      " 42  Net Receivables                                      1781 non-null   float64\n",
      " 43  Non-Recurring Items                                  1781 non-null   float64\n",
      " 44  Operating Income                                     1781 non-null   float64\n",
      " 45  Operating Margin                                     1781 non-null   float64\n",
      " 46  Other Assets                                         1781 non-null   float64\n",
      " 47  Other Current Assets                                 1781 non-null   float64\n",
      " 48  Other Current Liabilities                            1781 non-null   float64\n",
      " 49  Other Equity                                         1781 non-null   float64\n",
      " 50  Other Financing Activities                           1781 non-null   float64\n",
      " 51  Other Investing Activities                           1781 non-null   float64\n",
      " 52  Other Liabilities                                    1781 non-null   float64\n",
      " 53  Other Operating Activities                           1781 non-null   float64\n",
      " 54  Other Operating Items                                1781 non-null   float64\n",
      " 55  Pre-Tax Margin                                       1781 non-null   float64\n",
      " 56  Pre-Tax ROE                                          1781 non-null   float64\n",
      " 57  Profit Margin                                        1781 non-null   float64\n",
      " 58  Quick Ratio                                          1482 non-null   float64\n",
      " 59  Research and Development                             1781 non-null   float64\n",
      " 60  Retained Earnings                                    1781 non-null   float64\n",
      " 61  Sale and Purchase of Stock                           1781 non-null   float64\n",
      " 62  Sales, General and Admin.                            1781 non-null   float64\n",
      " 63  Short-Term Debt / Current Portion of Long-Term Debt  1781 non-null   float64\n",
      " 64  Short-Term Investments                               1781 non-null   float64\n",
      " 65  Total Assets                                         1781 non-null   float64\n",
      " 66  Total Current Assets                                 1781 non-null   float64\n",
      " 67  Total Current Liabilities                            1781 non-null   float64\n",
      " 68  Total Equity                                         1781 non-null   float64\n",
      " 69  Total Liabilities                                    1781 non-null   float64\n",
      " 70  Total Liabilities & Equity                           1781 non-null   float64\n",
      " 71  Total Revenue                                        1781 non-null   float64\n",
      " 72  Treasury Stock                                       1781 non-null   float64\n",
      " 73  For Year                                             1608 non-null   float64\n",
      " 74  Earnings Per Share                                   1562 non-null   float64\n",
      " 75  Estimated Shares Outstanding                         1562 non-null   float64\n",
      "dtypes: float64(76)\n",
      "memory usage: 1.0 MB\n"
     ]
    }
   ],
   "source": [
    "data.info()"
   ]
  },
  {
   "cell_type": "code",
   "execution_count": 42,
   "id": "6d6a3612-5bb3-4eeb-acd3-3f78022d1923",
   "metadata": {},
   "outputs": [],
   "source": [
    "from sklearn.decomposition import PCA\n",
    "data.dropna(inplace=True)"
   ]
  },
  {
   "cell_type": "code",
   "execution_count": 82,
   "id": "2f4d31bf-b44f-48cf-9b0e-035e1300903b",
   "metadata": {},
   "outputs": [],
   "source": [
    "pca=PCA(n_components=35)"
   ]
  },
  {
   "cell_type": "code",
   "execution_count": 83,
   "id": "cb6ceaf3-cf8b-4db6-91e5-be28499057bb",
   "metadata": {},
   "outputs": [],
   "source": [
    "from sklearn.preprocessing import StandardScaler"
   ]
  },
  {
   "cell_type": "code",
   "execution_count": 84,
   "id": "34e3f8f9-f8e9-43d1-8103-4b9b0123997e",
   "metadata": {},
   "outputs": [],
   "source": [
    "scaler=StandardScaler()"
   ]
  },
  {
   "cell_type": "code",
   "execution_count": 85,
   "id": "be190794-fa81-46dd-8d12-132aa85484ff",
   "metadata": {},
   "outputs": [
    {
     "data": {
      "text/html": [
       "<style>#sk-container-id-5 {color: black;background-color: white;}#sk-container-id-5 pre{padding: 0;}#sk-container-id-5 div.sk-toggleable {background-color: white;}#sk-container-id-5 label.sk-toggleable__label {cursor: pointer;display: block;width: 100%;margin-bottom: 0;padding: 0.3em;box-sizing: border-box;text-align: center;}#sk-container-id-5 label.sk-toggleable__label-arrow:before {content: \"▸\";float: left;margin-right: 0.25em;color: #696969;}#sk-container-id-5 label.sk-toggleable__label-arrow:hover:before {color: black;}#sk-container-id-5 div.sk-estimator:hover label.sk-toggleable__label-arrow:before {color: black;}#sk-container-id-5 div.sk-toggleable__content {max-height: 0;max-width: 0;overflow: hidden;text-align: left;background-color: #f0f8ff;}#sk-container-id-5 div.sk-toggleable__content pre {margin: 0.2em;color: black;border-radius: 0.25em;background-color: #f0f8ff;}#sk-container-id-5 input.sk-toggleable__control:checked~div.sk-toggleable__content {max-height: 200px;max-width: 100%;overflow: auto;}#sk-container-id-5 input.sk-toggleable__control:checked~label.sk-toggleable__label-arrow:before {content: \"▾\";}#sk-container-id-5 div.sk-estimator input.sk-toggleable__control:checked~label.sk-toggleable__label {background-color: #d4ebff;}#sk-container-id-5 div.sk-label input.sk-toggleable__control:checked~label.sk-toggleable__label {background-color: #d4ebff;}#sk-container-id-5 input.sk-hidden--visually {border: 0;clip: rect(1px 1px 1px 1px);clip: rect(1px, 1px, 1px, 1px);height: 1px;margin: -1px;overflow: hidden;padding: 0;position: absolute;width: 1px;}#sk-container-id-5 div.sk-estimator {font-family: monospace;background-color: #f0f8ff;border: 1px dotted black;border-radius: 0.25em;box-sizing: border-box;margin-bottom: 0.5em;}#sk-container-id-5 div.sk-estimator:hover {background-color: #d4ebff;}#sk-container-id-5 div.sk-parallel-item::after {content: \"\";width: 100%;border-bottom: 1px solid gray;flex-grow: 1;}#sk-container-id-5 div.sk-label:hover label.sk-toggleable__label {background-color: #d4ebff;}#sk-container-id-5 div.sk-serial::before {content: \"\";position: absolute;border-left: 1px solid gray;box-sizing: border-box;top: 0;bottom: 0;left: 50%;z-index: 0;}#sk-container-id-5 div.sk-serial {display: flex;flex-direction: column;align-items: center;background-color: white;padding-right: 0.2em;padding-left: 0.2em;position: relative;}#sk-container-id-5 div.sk-item {position: relative;z-index: 1;}#sk-container-id-5 div.sk-parallel {display: flex;align-items: stretch;justify-content: center;background-color: white;position: relative;}#sk-container-id-5 div.sk-item::before, #sk-container-id-5 div.sk-parallel-item::before {content: \"\";position: absolute;border-left: 1px solid gray;box-sizing: border-box;top: 0;bottom: 0;left: 50%;z-index: -1;}#sk-container-id-5 div.sk-parallel-item {display: flex;flex-direction: column;z-index: 1;position: relative;background-color: white;}#sk-container-id-5 div.sk-parallel-item:first-child::after {align-self: flex-end;width: 50%;}#sk-container-id-5 div.sk-parallel-item:last-child::after {align-self: flex-start;width: 50%;}#sk-container-id-5 div.sk-parallel-item:only-child::after {width: 0;}#sk-container-id-5 div.sk-dashed-wrapped {border: 1px dashed gray;margin: 0 0.4em 0.5em 0.4em;box-sizing: border-box;padding-bottom: 0.4em;background-color: white;}#sk-container-id-5 div.sk-label label {font-family: monospace;font-weight: bold;display: inline-block;line-height: 1.2em;}#sk-container-id-5 div.sk-label-container {text-align: center;}#sk-container-id-5 div.sk-container {/* jupyter's `normalize.less` sets `[hidden] { display: none; }` but bootstrap.min.css set `[hidden] { display: none !important; }` so we also need the `!important` here to be able to override the default hidden behavior on the sphinx rendered scikit-learn.org. See: https://github.com/scikit-learn/scikit-learn/issues/21755 */display: inline-block !important;position: relative;}#sk-container-id-5 div.sk-text-repr-fallback {display: none;}</style><div id=\"sk-container-id-5\" class=\"sk-top-container\"><div class=\"sk-text-repr-fallback\"><pre>StandardScaler()</pre><b>In a Jupyter environment, please rerun this cell to show the HTML representation or trust the notebook. <br />On GitHub, the HTML representation is unable to render, please try loading this page with nbviewer.org.</b></div><div class=\"sk-container\" hidden><div class=\"sk-item\"><div class=\"sk-estimator sk-toggleable\"><input class=\"sk-toggleable__control sk-hidden--visually\" id=\"sk-estimator-id-5\" type=\"checkbox\" checked><label for=\"sk-estimator-id-5\" class=\"sk-toggleable__label sk-toggleable__label-arrow\">StandardScaler</label><div class=\"sk-toggleable__content\"><pre>StandardScaler()</pre></div></div></div></div></div>"
      ],
      "text/plain": [
       "StandardScaler()"
      ]
     },
     "execution_count": 85,
     "metadata": {},
     "output_type": "execute_result"
    }
   ],
   "source": [
    "scaler.fit(data)"
   ]
  },
  {
   "cell_type": "code",
   "execution_count": 112,
   "id": "b3db074b-e8f2-4514-8c73-612f9a641f74",
   "metadata": {},
   "outputs": [],
   "source": [
    "scaled=scaler.transform(data)"
   ]
  },
  {
   "cell_type": "code",
   "execution_count": 127,
   "id": "e751676d-3ae7-42af-be6d-6f56be530387",
   "metadata": {},
   "outputs": [
    {
     "data": {
      "text/html": [
       "<style>#sk-container-id-10 {color: black;background-color: white;}#sk-container-id-10 pre{padding: 0;}#sk-container-id-10 div.sk-toggleable {background-color: white;}#sk-container-id-10 label.sk-toggleable__label {cursor: pointer;display: block;width: 100%;margin-bottom: 0;padding: 0.3em;box-sizing: border-box;text-align: center;}#sk-container-id-10 label.sk-toggleable__label-arrow:before {content: \"▸\";float: left;margin-right: 0.25em;color: #696969;}#sk-container-id-10 label.sk-toggleable__label-arrow:hover:before {color: black;}#sk-container-id-10 div.sk-estimator:hover label.sk-toggleable__label-arrow:before {color: black;}#sk-container-id-10 div.sk-toggleable__content {max-height: 0;max-width: 0;overflow: hidden;text-align: left;background-color: #f0f8ff;}#sk-container-id-10 div.sk-toggleable__content pre {margin: 0.2em;color: black;border-radius: 0.25em;background-color: #f0f8ff;}#sk-container-id-10 input.sk-toggleable__control:checked~div.sk-toggleable__content {max-height: 200px;max-width: 100%;overflow: auto;}#sk-container-id-10 input.sk-toggleable__control:checked~label.sk-toggleable__label-arrow:before {content: \"▾\";}#sk-container-id-10 div.sk-estimator input.sk-toggleable__control:checked~label.sk-toggleable__label {background-color: #d4ebff;}#sk-container-id-10 div.sk-label input.sk-toggleable__control:checked~label.sk-toggleable__label {background-color: #d4ebff;}#sk-container-id-10 input.sk-hidden--visually {border: 0;clip: rect(1px 1px 1px 1px);clip: rect(1px, 1px, 1px, 1px);height: 1px;margin: -1px;overflow: hidden;padding: 0;position: absolute;width: 1px;}#sk-container-id-10 div.sk-estimator {font-family: monospace;background-color: #f0f8ff;border: 1px dotted black;border-radius: 0.25em;box-sizing: border-box;margin-bottom: 0.5em;}#sk-container-id-10 div.sk-estimator:hover {background-color: #d4ebff;}#sk-container-id-10 div.sk-parallel-item::after {content: \"\";width: 100%;border-bottom: 1px solid gray;flex-grow: 1;}#sk-container-id-10 div.sk-label:hover label.sk-toggleable__label {background-color: #d4ebff;}#sk-container-id-10 div.sk-serial::before {content: \"\";position: absolute;border-left: 1px solid gray;box-sizing: border-box;top: 0;bottom: 0;left: 50%;z-index: 0;}#sk-container-id-10 div.sk-serial {display: flex;flex-direction: column;align-items: center;background-color: white;padding-right: 0.2em;padding-left: 0.2em;position: relative;}#sk-container-id-10 div.sk-item {position: relative;z-index: 1;}#sk-container-id-10 div.sk-parallel {display: flex;align-items: stretch;justify-content: center;background-color: white;position: relative;}#sk-container-id-10 div.sk-item::before, #sk-container-id-10 div.sk-parallel-item::before {content: \"\";position: absolute;border-left: 1px solid gray;box-sizing: border-box;top: 0;bottom: 0;left: 50%;z-index: -1;}#sk-container-id-10 div.sk-parallel-item {display: flex;flex-direction: column;z-index: 1;position: relative;background-color: white;}#sk-container-id-10 div.sk-parallel-item:first-child::after {align-self: flex-end;width: 50%;}#sk-container-id-10 div.sk-parallel-item:last-child::after {align-self: flex-start;width: 50%;}#sk-container-id-10 div.sk-parallel-item:only-child::after {width: 0;}#sk-container-id-10 div.sk-dashed-wrapped {border: 1px dashed gray;margin: 0 0.4em 0.5em 0.4em;box-sizing: border-box;padding-bottom: 0.4em;background-color: white;}#sk-container-id-10 div.sk-label label {font-family: monospace;font-weight: bold;display: inline-block;line-height: 1.2em;}#sk-container-id-10 div.sk-label-container {text-align: center;}#sk-container-id-10 div.sk-container {/* jupyter's `normalize.less` sets `[hidden] { display: none; }` but bootstrap.min.css set `[hidden] { display: none !important; }` so we also need the `!important` here to be able to override the default hidden behavior on the sphinx rendered scikit-learn.org. See: https://github.com/scikit-learn/scikit-learn/issues/21755 */display: inline-block !important;position: relative;}#sk-container-id-10 div.sk-text-repr-fallback {display: none;}</style><div id=\"sk-container-id-10\" class=\"sk-top-container\"><div class=\"sk-text-repr-fallback\"><pre>PCA(n_components=35)</pre><b>In a Jupyter environment, please rerun this cell to show the HTML representation or trust the notebook. <br />On GitHub, the HTML representation is unable to render, please try loading this page with nbviewer.org.</b></div><div class=\"sk-container\" hidden><div class=\"sk-item\"><div class=\"sk-estimator sk-toggleable\"><input class=\"sk-toggleable__control sk-hidden--visually\" id=\"sk-estimator-id-10\" type=\"checkbox\" checked><label for=\"sk-estimator-id-10\" class=\"sk-toggleable__label sk-toggleable__label-arrow\">PCA</label><div class=\"sk-toggleable__content\"><pre>PCA(n_components=35)</pre></div></div></div></div></div>"
      ],
      "text/plain": [
       "PCA(n_components=35)"
      ]
     },
     "execution_count": 127,
     "metadata": {},
     "output_type": "execute_result"
    }
   ],
   "source": [
    "pca.fit(scaled)"
   ]
  },
  {
   "cell_type": "code",
   "execution_count": 128,
   "id": "4ccb8292-c25e-492f-9772-146a1b054b40",
   "metadata": {},
   "outputs": [],
   "source": [
    "pca_scaled=pca.transform(scaled)"
   ]
  },
  {
   "cell_type": "code",
   "execution_count": 98,
   "id": "b4f04a28-e69f-4951-952e-a2d34e76c7a2",
   "metadata": {},
   "outputs": [],
   "source": [
    "variance_values = pca.explained_variance_ratio_.tolist()\n",
    "variance_values=np.array(variance_values)"
   ]
  },
  {
   "cell_type": "code",
   "execution_count": 99,
   "id": "bfdac8e0-1a77-4647-b59a-2cba068180d7",
   "metadata": {},
   "outputs": [],
   "source": [
    "# ind = np.argpartition(variance_values, -10)[-10:]\n",
    "# top10 = variance_values[ind]\n",
    "\n",
    "# sum(top10)"
   ]
  },
  {
   "cell_type": "code",
   "execution_count": 100,
   "id": "ad98c0a0-91be-49cb-9831-3dccf291011f",
   "metadata": {},
   "outputs": [],
   "source": [
    "import matplotlib.pyplot as plt"
   ]
  },
  {
   "cell_type": "code",
   "execution_count": 101,
   "id": "65478de6-7c70-4e79-9cb9-af5b2bba294a",
   "metadata": {},
   "outputs": [
    {
     "data": {
      "image/png": "[encoded data removed]",
      "text/plain": [
       "<Figure size 1100x600 with 1 Axes>"
      ]
     },
     "metadata": {},
     "output_type": "display_data"
    }
   ],
   "source": [
    "plt.figure(figsize=(11,6))\n",
    "plt.bar(x=[i for i in range(1,36)], height=variance_values, color=\"pink\", edgecolor=\"blue\")\n",
    "plt.xlabel('Principal Components')\n",
    "plt.ylabel('Explained Variance')\n",
    "plt.show()"
   ]
  },
  {
   "cell_type": "code",
   "execution_count": 131,
   "id": "ac785270-0d31-477b-b84e-f8d99b5af469",
   "metadata": {},
   "outputs": [
    {
     "data": {
      "text/html": [
       "<div>\n",
       "<style scoped>\n",
       "    .dataframe tbody tr th:only-of-type {\n",
       "        vertical-align: middle;\n",
       "    }\n",
       "\n",
       "    .dataframe tbody tr th {\n",
       "        vertical-align: top;\n",
       "    }\n",
       "\n",
       "    .dataframe thead th {\n",
       "        text-align: right;\n",
       "    }\n",
       "</style>\n",
       "<table border=\"1\" class=\"dataframe\">\n",
       "  <thead>\n",
       "    <tr style=\"text-align: right;\">\n",
       "      <th></th>\n",
       "      <th>0</th>\n",
       "      <th>1</th>\n",
       "      <th>2</th>\n",
       "      <th>3</th>\n",
       "      <th>4</th>\n",
       "      <th>5</th>\n",
       "      <th>6</th>\n",
       "      <th>7</th>\n",
       "      <th>8</th>\n",
       "      <th>9</th>\n",
       "      <th>...</th>\n",
       "      <th>25</th>\n",
       "      <th>26</th>\n",
       "      <th>27</th>\n",
       "      <th>28</th>\n",
       "      <th>29</th>\n",
       "      <th>30</th>\n",
       "      <th>31</th>\n",
       "      <th>32</th>\n",
       "      <th>33</th>\n",
       "      <th>34</th>\n",
       "    </tr>\n",
       "  </thead>\n",
       "  <tbody>\n",
       "    <tr>\n",
       "      <th>0</th>\n",
       "      <td>-1.071280</td>\n",
       "      <td>-1.735033</td>\n",
       "      <td>0.440587</td>\n",
       "      <td>-1.848618</td>\n",
       "      <td>0.116315</td>\n",
       "      <td>-1.899137</td>\n",
       "      <td>0.691501</td>\n",
       "      <td>-0.750351</td>\n",
       "      <td>-0.484506</td>\n",
       "      <td>0.545283</td>\n",
       "      <td>...</td>\n",
       "      <td>1.507122</td>\n",
       "      <td>0.237568</td>\n",
       "      <td>0.334515</td>\n",
       "      <td>0.340676</td>\n",
       "      <td>-0.174323</td>\n",
       "      <td>0.781741</td>\n",
       "      <td>-0.228919</td>\n",
       "      <td>-0.395152</td>\n",
       "      <td>0.073631</td>\n",
       "      <td>-0.475838</td>\n",
       "    </tr>\n",
       "    <tr>\n",
       "      <th>1</th>\n",
       "      <td>0.104905</td>\n",
       "      <td>-2.223449</td>\n",
       "      <td>1.845118</td>\n",
       "      <td>-2.478943</td>\n",
       "      <td>0.181924</td>\n",
       "      <td>-1.997260</td>\n",
       "      <td>1.221094</td>\n",
       "      <td>-0.204010</td>\n",
       "      <td>-0.647569</td>\n",
       "      <td>1.586265</td>\n",
       "      <td>...</td>\n",
       "      <td>1.855323</td>\n",
       "      <td>-0.218018</td>\n",
       "      <td>-0.407530</td>\n",
       "      <td>0.107825</td>\n",
       "      <td>-0.460127</td>\n",
       "      <td>0.941021</td>\n",
       "      <td>-0.822418</td>\n",
       "      <td>-0.387468</td>\n",
       "      <td>0.587285</td>\n",
       "      <td>-0.253292</td>\n",
       "    </tr>\n",
       "    <tr>\n",
       "      <th>2</th>\n",
       "      <td>2.195860</td>\n",
       "      <td>-1.370307</td>\n",
       "      <td>0.120198</td>\n",
       "      <td>-1.038890</td>\n",
       "      <td>-0.277063</td>\n",
       "      <td>-1.025378</td>\n",
       "      <td>1.142002</td>\n",
       "      <td>-1.025450</td>\n",
       "      <td>0.574087</td>\n",
       "      <td>0.682872</td>\n",
       "      <td>...</td>\n",
       "      <td>1.531114</td>\n",
       "      <td>-0.297247</td>\n",
       "      <td>-0.193295</td>\n",
       "      <td>-0.258713</td>\n",
       "      <td>-0.687290</td>\n",
       "      <td>0.256727</td>\n",
       "      <td>-1.175421</td>\n",
       "      <td>-0.813268</td>\n",
       "      <td>-0.838789</td>\n",
       "      <td>0.686767</td>\n",
       "    </tr>\n",
       "    <tr>\n",
       "      <th>3</th>\n",
       "      <td>3.164807</td>\n",
       "      <td>-0.545270</td>\n",
       "      <td>0.056919</td>\n",
       "      <td>-0.919476</td>\n",
       "      <td>-0.459458</td>\n",
       "      <td>-0.666455</td>\n",
       "      <td>1.190831</td>\n",
       "      <td>-0.173946</td>\n",
       "      <td>1.026156</td>\n",
       "      <td>-0.062074</td>\n",
       "      <td>...</td>\n",
       "      <td>1.616996</td>\n",
       "      <td>-0.140503</td>\n",
       "      <td>-0.737374</td>\n",
       "      <td>-0.495123</td>\n",
       "      <td>-0.122061</td>\n",
       "      <td>-0.319202</td>\n",
       "      <td>-2.236690</td>\n",
       "      <td>-1.964993</td>\n",
       "      <td>-1.197315</td>\n",
       "      <td>-0.628823</td>\n",
       "    </tr>\n",
       "    <tr>\n",
       "      <th>4</th>\n",
       "      <td>-2.300485</td>\n",
       "      <td>0.309447</td>\n",
       "      <td>-1.166761</td>\n",
       "      <td>-0.364088</td>\n",
       "      <td>-0.558708</td>\n",
       "      <td>-0.428217</td>\n",
       "      <td>-0.351233</td>\n",
       "      <td>0.370104</td>\n",
       "      <td>-0.183375</td>\n",
       "      <td>0.029613</td>\n",
       "      <td>...</td>\n",
       "      <td>-0.002660</td>\n",
       "      <td>0.006144</td>\n",
       "      <td>0.054205</td>\n",
       "      <td>-0.006517</td>\n",
       "      <td>0.160526</td>\n",
       "      <td>0.087868</td>\n",
       "      <td>0.252096</td>\n",
       "      <td>0.000895</td>\n",
       "      <td>0.033101</td>\n",
       "      <td>0.023340</td>\n",
       "    </tr>\n",
       "    <tr>\n",
       "      <th>...</th>\n",
       "      <td>...</td>\n",
       "      <td>...</td>\n",
       "      <td>...</td>\n",
       "      <td>...</td>\n",
       "      <td>...</td>\n",
       "      <td>...</td>\n",
       "      <td>...</td>\n",
       "      <td>...</td>\n",
       "      <td>...</td>\n",
       "      <td>...</td>\n",
       "      <td>...</td>\n",
       "      <td>...</td>\n",
       "      <td>...</td>\n",
       "      <td>...</td>\n",
       "      <td>...</td>\n",
       "      <td>...</td>\n",
       "      <td>...</td>\n",
       "      <td>...</td>\n",
       "      <td>...</td>\n",
       "      <td>...</td>\n",
       "      <td>...</td>\n",
       "    </tr>\n",
       "    <tr>\n",
       "      <th>1294</th>\n",
       "      <td>-2.016448</td>\n",
       "      <td>0.842682</td>\n",
       "      <td>0.854256</td>\n",
       "      <td>1.021997</td>\n",
       "      <td>0.740296</td>\n",
       "      <td>1.583705</td>\n",
       "      <td>0.013473</td>\n",
       "      <td>-0.889981</td>\n",
       "      <td>-0.102818</td>\n",
       "      <td>0.057348</td>\n",
       "      <td>...</td>\n",
       "      <td>0.004255</td>\n",
       "      <td>-0.152183</td>\n",
       "      <td>-0.002582</td>\n",
       "      <td>0.164037</td>\n",
       "      <td>0.033279</td>\n",
       "      <td>0.282205</td>\n",
       "      <td>-0.086623</td>\n",
       "      <td>-0.295251</td>\n",
       "      <td>0.108548</td>\n",
       "      <td>-0.239033</td>\n",
       "    </tr>\n",
       "    <tr>\n",
       "      <th>1295</th>\n",
       "      <td>-1.104969</td>\n",
       "      <td>-0.785718</td>\n",
       "      <td>1.190509</td>\n",
       "      <td>-1.201158</td>\n",
       "      <td>0.607096</td>\n",
       "      <td>1.861175</td>\n",
       "      <td>0.872438</td>\n",
       "      <td>-0.027156</td>\n",
       "      <td>0.005551</td>\n",
       "      <td>0.007051</td>\n",
       "      <td>...</td>\n",
       "      <td>0.132182</td>\n",
       "      <td>-0.921155</td>\n",
       "      <td>-0.918614</td>\n",
       "      <td>1.246826</td>\n",
       "      <td>0.042358</td>\n",
       "      <td>0.351845</td>\n",
       "      <td>-0.251787</td>\n",
       "      <td>0.170734</td>\n",
       "      <td>0.068682</td>\n",
       "      <td>-0.052272</td>\n",
       "    </tr>\n",
       "    <tr>\n",
       "      <th>1296</th>\n",
       "      <td>-1.850582</td>\n",
       "      <td>0.181347</td>\n",
       "      <td>0.538379</td>\n",
       "      <td>-0.114063</td>\n",
       "      <td>-0.846526</td>\n",
       "      <td>0.775422</td>\n",
       "      <td>-1.164191</td>\n",
       "      <td>0.310771</td>\n",
       "      <td>-0.077913</td>\n",
       "      <td>0.292708</td>\n",
       "      <td>...</td>\n",
       "      <td>-0.496941</td>\n",
       "      <td>-1.170341</td>\n",
       "      <td>-0.322282</td>\n",
       "      <td>-1.145471</td>\n",
       "      <td>-0.130566</td>\n",
       "      <td>-0.749087</td>\n",
       "      <td>-0.092048</td>\n",
       "      <td>-0.826802</td>\n",
       "      <td>0.009493</td>\n",
       "      <td>0.768800</td>\n",
       "    </tr>\n",
       "    <tr>\n",
       "      <th>1297</th>\n",
       "      <td>-2.260930</td>\n",
       "      <td>0.435181</td>\n",
       "      <td>0.247183</td>\n",
       "      <td>0.530290</td>\n",
       "      <td>0.291141</td>\n",
       "      <td>0.615981</td>\n",
       "      <td>-0.023873</td>\n",
       "      <td>-0.327573</td>\n",
       "      <td>-0.026007</td>\n",
       "      <td>0.136045</td>\n",
       "      <td>...</td>\n",
       "      <td>0.531320</td>\n",
       "      <td>-0.310673</td>\n",
       "      <td>-0.068237</td>\n",
       "      <td>0.110798</td>\n",
       "      <td>-0.137098</td>\n",
       "      <td>-0.023728</td>\n",
       "      <td>0.167689</td>\n",
       "      <td>0.224066</td>\n",
       "      <td>-0.009982</td>\n",
       "      <td>0.025122</td>\n",
       "    </tr>\n",
       "    <tr>\n",
       "      <th>1298</th>\n",
       "      <td>-2.046222</td>\n",
       "      <td>0.182433</td>\n",
       "      <td>0.017384</td>\n",
       "      <td>-0.177081</td>\n",
       "      <td>0.066246</td>\n",
       "      <td>0.106060</td>\n",
       "      <td>-0.067563</td>\n",
       "      <td>0.107093</td>\n",
       "      <td>-0.140928</td>\n",
       "      <td>0.063938</td>\n",
       "      <td>...</td>\n",
       "      <td>0.401454</td>\n",
       "      <td>-0.397898</td>\n",
       "      <td>-0.377222</td>\n",
       "      <td>0.126332</td>\n",
       "      <td>-0.015201</td>\n",
       "      <td>0.019474</td>\n",
       "      <td>0.114317</td>\n",
       "      <td>0.231350</td>\n",
       "      <td>0.095114</td>\n",
       "      <td>0.025890</td>\n",
       "    </tr>\n",
       "  </tbody>\n",
       "</table>\n",
       "<p>1299 rows × 35 columns</p>\n",
       "</div>"
      ],
      "text/plain": [
       "            0         1         2         3         4         5         6   \\\n",
       "0    -1.071280 -1.735033  0.440587 -1.848618  0.116315 -1.899137  0.691501   \n",
       "1     0.104905 -2.223449  1.845118 -2.478943  0.181924 -1.997260  1.221094   \n",
       "2     2.195860 -1.370307  0.120198 -1.038890 -0.277063 -1.025378  1.142002   \n",
       "3     3.164807 -0.545270  0.056919 -0.919476 -0.459458 -0.666455  1.190831   \n",
       "4    -2.300485  0.309447 -1.166761 -0.364088 -0.558708 -0.428217 -0.351233   \n",
       "...        ...       ...       ...       ...       ...       ...       ...   \n",
       "1294 -2.016448  0.842682  0.854256  1.021997  0.740296  1.583705  0.013473   \n",
       "1295 -1.104969 -0.785718  1.190509 -1.201158  0.607096  1.861175  0.872438   \n",
       "1296 -1.850582  0.181347  0.538379 -0.114063 -0.846526  0.775422 -1.164191   \n",
       "1297 -2.260930  0.435181  0.247183  0.530290  0.291141  0.615981 -0.023873   \n",
       "1298 -2.046222  0.182433  0.017384 -0.177081  0.066246  0.106060 -0.067563   \n",
       "\n",
       "            7         8         9   ...        25        26        27  \\\n",
       "0    -0.750351 -0.484506  0.545283  ...  1.507122  0.237568  0.334515   \n",
       "1    -0.204010 -0.647569  1.586265  ...  1.855323 -0.218018 -0.407530   \n",
       "2    -1.025450  0.574087  0.682872  ...  1.531114 -0.297247 -0.193295   \n",
       "3    -0.173946  1.026156 -0.062074  ...  1.616996 -0.140503 -0.737374   \n",
       "4     0.370104 -0.183375  0.029613  ... -0.002660  0.006144  0.054205   \n",
       "...        ...       ...       ...  ...       ...       ...       ...   \n",
       "1294 -0.889981 -0.102818  0.057348  ...  0.004255 -0.152183 -0.002582   \n",
       "1295 -0.027156  0.005551  0.007051  ...  0.132182 -0.921155 -0.918614   \n",
       "1296  0.310771 -0.077913  0.292708  ... -0.496941 -1.170341 -0.322282   \n",
       "1297 -0.327573 -0.026007  0.136045  ...  0.531320 -0.310673 -0.068237   \n",
       "1298  0.107093 -0.140928  0.063938  ...  0.401454 -0.397898 -0.377222   \n",
       "\n",
       "            28        29        30        31        32        33        34  \n",
       "0     0.340676 -0.174323  0.781741 -0.228919 -0.395152  0.073631 -0.475838  \n",
       "1     0.107825 -0.460127  0.941021 -0.822418 -0.387468  0.587285 -0.253292  \n",
       "2    -0.258713 -0.687290  0.256727 -1.175421 -0.813268 -0.838789  0.686767  \n",
       "3    -0.495123 -0.122061 -0.319202 -2.236690 -1.964993 -1.197315 -0.628823  \n",
       "4    -0.006517  0.160526  0.087868  0.252096  0.000895  0.033101  0.023340  \n",
       "...        ...       ...       ...       ...       ...       ...       ...  \n",
       "1294  0.164037  0.033279  0.282205 -0.086623 -0.295251  0.108548 -0.239033  \n",
       "1295  1.246826  0.042358  0.351845 -0.251787  0.170734  0.068682 -0.052272  \n",
       "1296 -1.145471 -0.130566 -0.749087 -0.092048 -0.826802  0.009493  0.768800  \n",
       "1297  0.110798 -0.137098 -0.023728  0.167689  0.224066 -0.009982  0.025122  \n",
       "1298  0.126332 -0.015201  0.019474  0.114317  0.231350  0.095114  0.025890  \n",
       "\n",
       "[1299 rows x 35 columns]"
      ]
     },
     "execution_count": 131,
     "metadata": {},
     "output_type": "execute_result"
    }
   ],
   "source": [
    "projected_data=pd.DataFrame(pca_scaled)\n",
    "projected_data"
   ]
  },
  {
   "cell_type": "code",
   "execution_count": 156,
   "id": "6846da0b-8e4f-42f6-a3e0-8c3feeebb1cc",
   "metadata": {},
   "outputs": [],
   "source": [
    "label=pd.read_csv('prices.csv')"
   ]
  },
  {
   "cell_type": "code",
   "execution_count": 157,
   "id": "e2a59c18-ae1c-494c-b1a3-ee05893a3b91",
   "metadata": {},
   "outputs": [],
   "source": [
    "label.drop(['date','symbol'],axis=1,inplace=True)"
   ]
  },
  {
   "cell_type": "code",
   "execution_count": 158,
   "id": "bd3501c4-1815-400a-bdc1-d124a89ddd00",
   "metadata": {},
   "outputs": [
    {
     "data": {
      "text/html": [
       "<div>\n",
       "<style scoped>\n",
       "    .dataframe tbody tr th:only-of-type {\n",
       "        vertical-align: middle;\n",
       "    }\n",
       "\n",
       "    .dataframe tbody tr th {\n",
       "        vertical-align: top;\n",
       "    }\n",
       "\n",
       "    .dataframe thead th {\n",
       "        text-align: right;\n",
       "    }\n",
       "</style>\n",
       "<table border=\"1\" class=\"dataframe\">\n",
       "  <thead>\n",
       "    <tr style=\"text-align: right;\">\n",
       "      <th></th>\n",
       "      <th>open</th>\n",
       "      <th>close</th>\n",
       "      <th>low</th>\n",
       "      <th>high</th>\n",
       "      <th>volume</th>\n",
       "    </tr>\n",
       "  </thead>\n",
       "  <tbody>\n",
       "    <tr>\n",
       "      <th>0</th>\n",
       "      <td>123.430000</td>\n",
       "      <td>125.839996</td>\n",
       "      <td>122.309998</td>\n",
       "      <td>126.250000</td>\n",
       "      <td>2163600.0</td>\n",
       "    </tr>\n",
       "    <tr>\n",
       "      <th>1</th>\n",
       "      <td>125.239998</td>\n",
       "      <td>119.980003</td>\n",
       "      <td>119.940002</td>\n",
       "      <td>125.540001</td>\n",
       "      <td>2386400.0</td>\n",
       "    </tr>\n",
       "    <tr>\n",
       "      <th>2</th>\n",
       "      <td>116.379997</td>\n",
       "      <td>114.949997</td>\n",
       "      <td>114.930000</td>\n",
       "      <td>119.739998</td>\n",
       "      <td>2489500.0</td>\n",
       "    </tr>\n",
       "    <tr>\n",
       "      <th>3</th>\n",
       "      <td>115.480003</td>\n",
       "      <td>116.620003</td>\n",
       "      <td>113.500000</td>\n",
       "      <td>117.440002</td>\n",
       "      <td>2006300.0</td>\n",
       "    </tr>\n",
       "    <tr>\n",
       "      <th>4</th>\n",
       "      <td>117.010002</td>\n",
       "      <td>114.970001</td>\n",
       "      <td>114.089996</td>\n",
       "      <td>117.330002</td>\n",
       "      <td>1408600.0</td>\n",
       "    </tr>\n",
       "    <tr>\n",
       "      <th>...</th>\n",
       "      <td>...</td>\n",
       "      <td>...</td>\n",
       "      <td>...</td>\n",
       "      <td>...</td>\n",
       "      <td>...</td>\n",
       "    </tr>\n",
       "    <tr>\n",
       "      <th>1294</th>\n",
       "      <td>26.190001</td>\n",
       "      <td>26.420000</td>\n",
       "      <td>26.190001</td>\n",
       "      <td>26.469999</td>\n",
       "      <td>1570100.0</td>\n",
       "    </tr>\n",
       "    <tr>\n",
       "      <th>1295</th>\n",
       "      <td>36.540001</td>\n",
       "      <td>35.279999</td>\n",
       "      <td>35.220001</td>\n",
       "      <td>36.540001</td>\n",
       "      <td>5333000.0</td>\n",
       "    </tr>\n",
       "    <tr>\n",
       "      <th>1296</th>\n",
       "      <td>47.529999</td>\n",
       "      <td>47.330002</td>\n",
       "      <td>47.060001</td>\n",
       "      <td>47.750000</td>\n",
       "      <td>6270400.0</td>\n",
       "    </tr>\n",
       "    <tr>\n",
       "      <th>1297</th>\n",
       "      <td>42.730000</td>\n",
       "      <td>42.700001</td>\n",
       "      <td>42.560001</td>\n",
       "      <td>43.330002</td>\n",
       "      <td>3046500.0</td>\n",
       "    </tr>\n",
       "    <tr>\n",
       "      <th>1298</th>\n",
       "      <td>32.450001</td>\n",
       "      <td>32.560001</td>\n",
       "      <td>32.360001</td>\n",
       "      <td>32.980000</td>\n",
       "      <td>11319600.0</td>\n",
       "    </tr>\n",
       "  </tbody>\n",
       "</table>\n",
       "<p>1299 rows × 5 columns</p>\n",
       "</div>"
      ],
      "text/plain": [
       "            open       close         low        high      volume\n",
       "0     123.430000  125.839996  122.309998  126.250000   2163600.0\n",
       "1     125.239998  119.980003  119.940002  125.540001   2386400.0\n",
       "2     116.379997  114.949997  114.930000  119.739998   2489500.0\n",
       "3     115.480003  116.620003  113.500000  117.440002   2006300.0\n",
       "4     117.010002  114.970001  114.089996  117.330002   1408600.0\n",
       "...          ...         ...         ...         ...         ...\n",
       "1294   26.190001   26.420000   26.190001   26.469999   1570100.0\n",
       "1295   36.540001   35.279999   35.220001   36.540001   5333000.0\n",
       "1296   47.529999   47.330002   47.060001   47.750000   6270400.0\n",
       "1297   42.730000   42.700001   42.560001   43.330002   3046500.0\n",
       "1298   32.450001   32.560001   32.360001   32.980000  11319600.0\n",
       "\n",
       "[1299 rows x 5 columns]"
      ]
     },
     "execution_count": 158,
     "metadata": {},
     "output_type": "execute_result"
    }
   ],
   "source": [
    "label=label[:1299]\n",
    "label"
   ]
  },
  {
   "cell_type": "code",
   "execution_count": 159,
   "id": "91ddcce6-16d8-448a-b1a7-8d83098a87f8",
   "metadata": {},
   "outputs": [
    {
     "data": {
      "text/html": [
       "<style>#sk-container-id-14 {color: black;background-color: white;}#sk-container-id-14 pre{padding: 0;}#sk-container-id-14 div.sk-toggleable {background-color: white;}#sk-container-id-14 label.sk-toggleable__label {cursor: pointer;display: block;width: 100%;margin-bottom: 0;padding: 0.3em;box-sizing: border-box;text-align: center;}#sk-container-id-14 label.sk-toggleable__label-arrow:before {content: \"▸\";float: left;margin-right: 0.25em;color: #696969;}#sk-container-id-14 label.sk-toggleable__label-arrow:hover:before {color: black;}#sk-container-id-14 div.sk-estimator:hover label.sk-toggleable__label-arrow:before {color: black;}#sk-container-id-14 div.sk-toggleable__content {max-height: 0;max-width: 0;overflow: hidden;text-align: left;background-color: #f0f8ff;}#sk-container-id-14 div.sk-toggleable__content pre {margin: 0.2em;color: black;border-radius: 0.25em;background-color: #f0f8ff;}#sk-container-id-14 input.sk-toggleable__control:checked~div.sk-toggleable__content {max-height: 200px;max-width: 100%;overflow: auto;}#sk-container-id-14 input.sk-toggleable__control:checked~label.sk-toggleable__label-arrow:before {content: \"▾\";}#sk-container-id-14 div.sk-estimator input.sk-toggleable__control:checked~label.sk-toggleable__label {background-color: #d4ebff;}#sk-container-id-14 div.sk-label input.sk-toggleable__control:checked~label.sk-toggleable__label {background-color: #d4ebff;}#sk-container-id-14 input.sk-hidden--visually {border: 0;clip: rect(1px 1px 1px 1px);clip: rect(1px, 1px, 1px, 1px);height: 1px;margin: -1px;overflow: hidden;padding: 0;position: absolute;width: 1px;}#sk-container-id-14 div.sk-estimator {font-family: monospace;background-color: #f0f8ff;border: 1px dotted black;border-radius: 0.25em;box-sizing: border-box;margin-bottom: 0.5em;}#sk-container-id-14 div.sk-estimator:hover {background-color: #d4ebff;}#sk-container-id-14 div.sk-parallel-item::after {content: \"\";width: 100%;border-bottom: 1px solid gray;flex-grow: 1;}#sk-container-id-14 div.sk-label:hover label.sk-toggleable__label {background-color: #d4ebff;}#sk-container-id-14 div.sk-serial::before {content: \"\";position: absolute;border-left: 1px solid gray;box-sizing: border-box;top: 0;bottom: 0;left: 50%;z-index: 0;}#sk-container-id-14 div.sk-serial {display: flex;flex-direction: column;align-items: center;background-color: white;padding-right: 0.2em;padding-left: 0.2em;position: relative;}#sk-container-id-14 div.sk-item {position: relative;z-index: 1;}#sk-container-id-14 div.sk-parallel {display: flex;align-items: stretch;justify-content: center;background-color: white;position: relative;}#sk-container-id-14 div.sk-item::before, #sk-container-id-14 div.sk-parallel-item::before {content: \"\";position: absolute;border-left: 1px solid gray;box-sizing: border-box;top: 0;bottom: 0;left: 50%;z-index: -1;}#sk-container-id-14 div.sk-parallel-item {display: flex;flex-direction: column;z-index: 1;position: relative;background-color: white;}#sk-container-id-14 div.sk-parallel-item:first-child::after {align-self: flex-end;width: 50%;}#sk-container-id-14 div.sk-parallel-item:last-child::after {align-self: flex-start;width: 50%;}#sk-container-id-14 div.sk-parallel-item:only-child::after {width: 0;}#sk-container-id-14 div.sk-dashed-wrapped {border: 1px dashed gray;margin: 0 0.4em 0.5em 0.4em;box-sizing: border-box;padding-bottom: 0.4em;background-color: white;}#sk-container-id-14 div.sk-label label {font-family: monospace;font-weight: bold;display: inline-block;line-height: 1.2em;}#sk-container-id-14 div.sk-label-container {text-align: center;}#sk-container-id-14 div.sk-container {/* jupyter's `normalize.less` sets `[hidden] { display: none; }` but bootstrap.min.css set `[hidden] { display: none !important; }` so we also need the `!important` here to be able to override the default hidden behavior on the sphinx rendered scikit-learn.org. See: https://github.com/scikit-learn/scikit-learn/issues/21755 */display: inline-block !important;position: relative;}#sk-container-id-14 div.sk-text-repr-fallback {display: none;}</style><div id=\"sk-container-id-14\" class=\"sk-top-container\"><div class=\"sk-text-repr-fallback\"><pre>StandardScaler()</pre><b>In a Jupyter environment, please rerun this cell to show the HTML representation or trust the notebook. <br />On GitHub, the HTML representation is unable to render, please try loading this page with nbviewer.org.</b></div><div class=\"sk-container\" hidden><div class=\"sk-item\"><div class=\"sk-estimator sk-toggleable\"><input class=\"sk-toggleable__control sk-hidden--visually\" id=\"sk-estimator-id-14\" type=\"checkbox\" checked><label for=\"sk-estimator-id-14\" class=\"sk-toggleable__label sk-toggleable__label-arrow\">StandardScaler</label><div class=\"sk-toggleable__content\"><pre>StandardScaler()</pre></div></div></div></div></div>"
      ],
      "text/plain": [
       "StandardScaler()"
      ]
     },
     "execution_count": 159,
     "metadata": {},
     "output_type": "execute_result"
    }
   ],
   "source": [
    "scaler.fit(label)"
   ]
  },
  {
   "cell_type": "code",
   "execution_count": 160,
   "id": "2bd32b4d-3f75-4d40-ad7a-d002e132b82d",
   "metadata": {},
   "outputs": [],
   "source": [
    "scaled_label=scaler.transform(label)"
   ]
  },
  {
   "cell_type": "code",
   "execution_count": 161,
   "id": "bb9260ab-1214-4751-97c4-050e2094a677",
   "metadata": {},
   "outputs": [
    {
     "data": {
      "text/html": [
       "<style>#sk-container-id-15 {color: black;background-color: white;}#sk-container-id-15 pre{padding: 0;}#sk-container-id-15 div.sk-toggleable {background-color: white;}#sk-container-id-15 label.sk-toggleable__label {cursor: pointer;display: block;width: 100%;margin-bottom: 0;padding: 0.3em;box-sizing: border-box;text-align: center;}#sk-container-id-15 label.sk-toggleable__label-arrow:before {content: \"▸\";float: left;margin-right: 0.25em;color: #696969;}#sk-container-id-15 label.sk-toggleable__label-arrow:hover:before {color: black;}#sk-container-id-15 div.sk-estimator:hover label.sk-toggleable__label-arrow:before {color: black;}#sk-container-id-15 div.sk-toggleable__content {max-height: 0;max-width: 0;overflow: hidden;text-align: left;background-color: #f0f8ff;}#sk-container-id-15 div.sk-toggleable__content pre {margin: 0.2em;color: black;border-radius: 0.25em;background-color: #f0f8ff;}#sk-container-id-15 input.sk-toggleable__control:checked~div.sk-toggleable__content {max-height: 200px;max-width: 100%;overflow: auto;}#sk-container-id-15 input.sk-toggleable__control:checked~label.sk-toggleable__label-arrow:before {content: \"▾\";}#sk-container-id-15 div.sk-estimator input.sk-toggleable__control:checked~label.sk-toggleable__label {background-color: #d4ebff;}#sk-container-id-15 div.sk-label input.sk-toggleable__control:checked~label.sk-toggleable__label {background-color: #d4ebff;}#sk-container-id-15 input.sk-hidden--visually {border: 0;clip: rect(1px 1px 1px 1px);clip: rect(1px, 1px, 1px, 1px);height: 1px;margin: -1px;overflow: hidden;padding: 0;position: absolute;width: 1px;}#sk-container-id-15 div.sk-estimator {font-family: monospace;background-color: #f0f8ff;border: 1px dotted black;border-radius: 0.25em;box-sizing: border-box;margin-bottom: 0.5em;}#sk-container-id-15 div.sk-estimator:hover {background-color: #d4ebff;}#sk-container-id-15 div.sk-parallel-item::after {content: \"\";width: 100%;border-bottom: 1px solid gray;flex-grow: 1;}#sk-container-id-15 div.sk-label:hover label.sk-toggleable__label {background-color: #d4ebff;}#sk-container-id-15 div.sk-serial::before {content: \"\";position: absolute;border-left: 1px solid gray;box-sizing: border-box;top: 0;bottom: 0;left: 50%;z-index: 0;}#sk-container-id-15 div.sk-serial {display: flex;flex-direction: column;align-items: center;background-color: white;padding-right: 0.2em;padding-left: 0.2em;position: relative;}#sk-container-id-15 div.sk-item {position: relative;z-index: 1;}#sk-container-id-15 div.sk-parallel {display: flex;align-items: stretch;justify-content: center;background-color: white;position: relative;}#sk-container-id-15 div.sk-item::before, #sk-container-id-15 div.sk-parallel-item::before {content: \"\";position: absolute;border-left: 1px solid gray;box-sizing: border-box;top: 0;bottom: 0;left: 50%;z-index: -1;}#sk-container-id-15 div.sk-parallel-item {display: flex;flex-direction: column;z-index: 1;position: relative;background-color: white;}#sk-container-id-15 div.sk-parallel-item:first-child::after {align-self: flex-end;width: 50%;}#sk-container-id-15 div.sk-parallel-item:last-child::after {align-self: flex-start;width: 50%;}#sk-container-id-15 div.sk-parallel-item:only-child::after {width: 0;}#sk-container-id-15 div.sk-dashed-wrapped {border: 1px dashed gray;margin: 0 0.4em 0.5em 0.4em;box-sizing: border-box;padding-bottom: 0.4em;background-color: white;}#sk-container-id-15 div.sk-label label {font-family: monospace;font-weight: bold;display: inline-block;line-height: 1.2em;}#sk-container-id-15 div.sk-label-container {text-align: center;}#sk-container-id-15 div.sk-container {/* jupyter's `normalize.less` sets `[hidden] { display: none; }` but bootstrap.min.css set `[hidden] { display: none !important; }` so we also need the `!important` here to be able to override the default hidden behavior on the sphinx rendered scikit-learn.org. See: https://github.com/scikit-learn/scikit-learn/issues/21755 */display: inline-block !important;position: relative;}#sk-container-id-15 div.sk-text-repr-fallback {display: none;}</style><div id=\"sk-container-id-15\" class=\"sk-top-container\"><div class=\"sk-text-repr-fallback\"><pre>PCA(n_components=1)</pre><b>In a Jupyter environment, please rerun this cell to show the HTML representation or trust the notebook. <br />On GitHub, the HTML representation is unable to render, please try loading this page with nbviewer.org.</b></div><div class=\"sk-container\" hidden><div class=\"sk-item\"><div class=\"sk-estimator sk-toggleable\"><input class=\"sk-toggleable__control sk-hidden--visually\" id=\"sk-estimator-id-15\" type=\"checkbox\" checked><label for=\"sk-estimator-id-15\" class=\"sk-toggleable__label sk-toggleable__label-arrow\">PCA</label><div class=\"sk-toggleable__content\"><pre>PCA(n_components=1)</pre></div></div></div></div></div>"
      ],
      "text/plain": [
       "PCA(n_components=1)"
      ]
     },
     "execution_count": 161,
     "metadata": {},
     "output_type": "execute_result"
    }
   ],
   "source": [
    "l_pca=PCA(n_components=1)\n",
    "l_pca.fit(scaled_label)"
   ]
  },
  {
   "cell_type": "code",
   "execution_count": 162,
   "id": "3e65becc-0fb6-4045-999f-dc25c52bc5ef",
   "metadata": {},
   "outputs": [],
   "source": [
    "projected_label=l_pca.transform(scaled_label)"
   ]
  },
  {
   "cell_type": "code",
   "execution_count": 163,
   "id": "a5fcb41a-4819-4e67-a0db-0c0e609027c4",
   "metadata": {},
   "outputs": [],
   "source": [
    "projected_label=projected_label.ravel()\n"
   ]
  },
  {
   "cell_type": "code",
   "execution_count": 164,
   "id": "ed427baa-8034-4189-bca2-2c03699f19b6",
   "metadata": {},
   "outputs": [],
   "source": [
    "from sklearn.linear_model import LinearRegression"
   ]
  },
  {
   "cell_type": "code",
   "execution_count": 191,
   "id": "fb0097f2-0401-4dd9-89f3-5fb996693e9d",
   "metadata": {},
   "outputs": [],
   "source": [
    "from sklearn.model_selection import train_test_split"
   ]
  },
  {
   "cell_type": "code",
   "execution_count": 192,
   "id": "13078225-a416-4593-8ab0-bd2ab1c62e92",
   "metadata": {},
   "outputs": [],
   "source": [
    "X_train, X_test, y_train, y_test =train_test_split(projected_data,projected_label,test_size=0.2,random_state=42)"
   ]
  },
  {
   "cell_type": "code",
   "execution_count": 168,
   "id": "d3052619-aed5-453a-8428-e3ea441b6549",
   "metadata": {},
   "outputs": [],
   "source": [
    "linear=LinearRegression()"
   ]
  },
  {
   "cell_type": "code",
   "execution_count": 169,
   "id": "cdb27df8-1f85-4ecd-802e-d9686b1c77b2",
   "metadata": {},
   "outputs": [
    {
     "data": {
      "text/html": [
       "<style>#sk-container-id-16 {color: black;background-color: white;}#sk-container-id-16 pre{padding: 0;}#sk-container-id-16 div.sk-toggleable {background-color: white;}#sk-container-id-16 label.sk-toggleable__label {cursor: pointer;display: block;width: 100%;margin-bottom: 0;padding: 0.3em;box-sizing: border-box;text-align: center;}#sk-container-id-16 label.sk-toggleable__label-arrow:before {content: \"▸\";float: left;margin-right: 0.25em;color: #696969;}#sk-container-id-16 label.sk-toggleable__label-arrow:hover:before {color: black;}#sk-container-id-16 div.sk-estimator:hover label.sk-toggleable__label-arrow:before {color: black;}#sk-container-id-16 div.sk-toggleable__content {max-height: 0;max-width: 0;overflow: hidden;text-align: left;background-color: #f0f8ff;}#sk-container-id-16 div.sk-toggleable__content pre {margin: 0.2em;color: black;border-radius: 0.25em;background-color: #f0f8ff;}#sk-container-id-16 input.sk-toggleable__control:checked~div.sk-toggleable__content {max-height: 200px;max-width: 100%;overflow: auto;}#sk-container-id-16 input.sk-toggleable__control:checked~label.sk-toggleable__label-arrow:before {content: \"▾\";}#sk-container-id-16 div.sk-estimator input.sk-toggleable__control:checked~label.sk-toggleable__label {background-color: #d4ebff;}#sk-container-id-16 div.sk-label input.sk-toggleable__control:checked~label.sk-toggleable__label {background-color: #d4ebff;}#sk-container-id-16 input.sk-hidden--visually {border: 0;clip: rect(1px 1px 1px 1px);clip: rect(1px, 1px, 1px, 1px);height: 1px;margin: -1px;overflow: hidden;padding: 0;position: absolute;width: 1px;}#sk-container-id-16 div.sk-estimator {font-family: monospace;background-color: #f0f8ff;border: 1px dotted black;border-radius: 0.25em;box-sizing: border-box;margin-bottom: 0.5em;}#sk-container-id-16 div.sk-estimator:hover {background-color: #d4ebff;}#sk-container-id-16 div.sk-parallel-item::after {content: \"\";width: 100%;border-bottom: 1px solid gray;flex-grow: 1;}#sk-container-id-16 div.sk-label:hover label.sk-toggleable__label {background-color: #d4ebff;}#sk-container-id-16 div.sk-serial::before {content: \"\";position: absolute;border-left: 1px solid gray;box-sizing: border-box;top: 0;bottom: 0;left: 50%;z-index: 0;}#sk-container-id-16 div.sk-serial {display: flex;flex-direction: column;align-items: center;background-color: white;padding-right: 0.2em;padding-left: 0.2em;position: relative;}#sk-container-id-16 div.sk-item {position: relative;z-index: 1;}#sk-container-id-16 div.sk-parallel {display: flex;align-items: stretch;justify-content: center;background-color: white;position: relative;}#sk-container-id-16 div.sk-item::before, #sk-container-id-16 div.sk-parallel-item::before {content: \"\";position: absolute;border-left: 1px solid gray;box-sizing: border-box;top: 0;bottom: 0;left: 50%;z-index: -1;}#sk-container-id-16 div.sk-parallel-item {display: flex;flex-direction: column;z-index: 1;position: relative;background-color: white;}#sk-container-id-16 div.sk-parallel-item:first-child::after {align-self: flex-end;width: 50%;}#sk-container-id-16 div.sk-parallel-item:last-child::after {align-self: flex-start;width: 50%;}#sk-container-id-16 div.sk-parallel-item:only-child::after {width: 0;}#sk-container-id-16 div.sk-dashed-wrapped {border: 1px dashed gray;margin: 0 0.4em 0.5em 0.4em;box-sizing: border-box;padding-bottom: 0.4em;background-color: white;}#sk-container-id-16 div.sk-label label {font-family: monospace;font-weight: bold;display: inline-block;line-height: 1.2em;}#sk-container-id-16 div.sk-label-container {text-align: center;}#sk-container-id-16 div.sk-container {/* jupyter's `normalize.less` sets `[hidden] { display: none; }` but bootstrap.min.css set `[hidden] { display: none !important; }` so we also need the `!important` here to be able to override the default hidden behavior on the sphinx rendered scikit-learn.org. See: https://github.com/scikit-learn/scikit-learn/issues/21755 */display: inline-block !important;position: relative;}#sk-container-id-16 div.sk-text-repr-fallback {display: none;}</style><div id=\"sk-container-id-16\" class=\"sk-top-container\"><div class=\"sk-text-repr-fallback\"><pre>LinearRegression()</pre><b>In a Jupyter environment, please rerun this cell to show the HTML representation or trust the notebook. <br />On GitHub, the HTML representation is unable to render, please try loading this page with nbviewer.org.</b></div><div class=\"sk-container\" hidden><div class=\"sk-item\"><div class=\"sk-estimator sk-toggleable\"><input class=\"sk-toggleable__control sk-hidden--visually\" id=\"sk-estimator-id-16\" type=\"checkbox\" checked><label for=\"sk-estimator-id-16\" class=\"sk-toggleable__label sk-toggleable__label-arrow\">LinearRegression</label><div class=\"sk-toggleable__content\"><pre>LinearRegression()</pre></div></div></div></div></div>"
      ],
      "text/plain": [
       "LinearRegression()"
      ]
     },
     "execution_count": 169,
     "metadata": {},
     "output_type": "execute_result"
    }
   ],
   "source": [
    "linear.fit(X_train,y_train)"
   ]
  },
  {
   "cell_type": "code",
   "execution_count": 170,
   "id": "357fb8de-369d-4b13-a06f-da42cf2ad82b",
   "metadata": {},
   "outputs": [],
   "source": [
    "linear_pred=linear.predict(X_test)"
   ]
  },
  {
   "cell_type": "code",
   "execution_count": 171,
   "id": "045456d3-8765-4847-b3c6-c85f2580c4c2",
   "metadata": {},
   "outputs": [
    {
     "data": {
      "text/plain": [
       "0.05248830131093918"
      ]
     },
     "execution_count": 171,
     "metadata": {},
     "output_type": "execute_result"
    }
   ],
   "source": [
    "linear.score(projected_data,projected_label)"
   ]
  },
  {
   "cell_type": "code",
   "execution_count": 172,
   "id": "244d94f0-e98a-4a4a-89b4-4c731c310c5e",
   "metadata": {},
   "outputs": [],
   "source": [
    "from sklearn.ensemble import RandomForestRegressor"
   ]
  },
  {
   "cell_type": "code",
   "execution_count": 193,
   "id": "873b4b9d-4ca8-4f27-b9f3-d845ea2f0c0e",
   "metadata": {},
   "outputs": [],
   "source": [
    "forest=RandomForestRegressor()"
   ]
  },
  {
   "cell_type": "code",
   "execution_count": 194,
   "id": "3c240bc4-7bb6-4f38-b0fe-ffb7b1ff2470",
   "metadata": {},
   "outputs": [
    {
     "data": {
      "text/html": [
       "<style>#sk-container-id-23 {color: black;background-color: white;}#sk-container-id-23 pre{padding: 0;}#sk-container-id-23 div.sk-toggleable {background-color: white;}#sk-container-id-23 label.sk-toggleable__label {cursor: pointer;display: block;width: 100%;margin-bottom: 0;padding: 0.3em;box-sizing: border-box;text-align: center;}#sk-container-id-23 label.sk-toggleable__label-arrow:before {content: \"▸\";float: left;margin-right: 0.25em;color: #696969;}#sk-container-id-23 label.sk-toggleable__label-arrow:hover:before {color: black;}#sk-container-id-23 div.sk-estimator:hover label.sk-toggleable__label-arrow:before {color: black;}#sk-container-id-23 div.sk-toggleable__content {max-height: 0;max-width: 0;overflow: hidden;text-align: left;background-color: #f0f8ff;}#sk-container-id-23 div.sk-toggleable__content pre {margin: 0.2em;color: black;border-radius: 0.25em;background-color: #f0f8ff;}#sk-container-id-23 input.sk-toggleable__control:checked~div.sk-toggleable__content {max-height: 200px;max-width: 100%;overflow: auto;}#sk-container-id-23 input.sk-toggleable__control:checked~label.sk-toggleable__label-arrow:before {content: \"▾\";}#sk-container-id-23 div.sk-estimator input.sk-toggleable__control:checked~label.sk-toggleable__label {background-color: #d4ebff;}#sk-container-id-23 div.sk-label input.sk-toggleable__control:checked~label.sk-toggleable__label {background-color: #d4ebff;}#sk-container-id-23 input.sk-hidden--visually {border: 0;clip: rect(1px 1px 1px 1px);clip: rect(1px, 1px, 1px, 1px);height: 1px;margin: -1px;overflow: hidden;padding: 0;position: absolute;width: 1px;}#sk-container-id-23 div.sk-estimator {font-family: monospace;background-color: #f0f8ff;border: 1px dotted black;border-radius: 0.25em;box-sizing: border-box;margin-bottom: 0.5em;}#sk-container-id-23 div.sk-estimator:hover {background-color: #d4ebff;}#sk-container-id-23 div.sk-parallel-item::after {content: \"\";width: 100%;border-bottom: 1px solid gray;flex-grow: 1;}#sk-container-id-23 div.sk-label:hover label.sk-toggleable__label {background-color: #d4ebff;}#sk-container-id-23 div.sk-serial::before {content: \"\";position: absolute;border-left: 1px solid gray;box-sizing: border-box;top: 0;bottom: 0;left: 50%;z-index: 0;}#sk-container-id-23 div.sk-serial {display: flex;flex-direction: column;align-items: center;background-color: white;padding-right: 0.2em;padding-left: 0.2em;position: relative;}#sk-container-id-23 div.sk-item {position: relative;z-index: 1;}#sk-container-id-23 div.sk-parallel {display: flex;align-items: stretch;justify-content: center;background-color: white;position: relative;}#sk-container-id-23 div.sk-item::before, #sk-container-id-23 div.sk-parallel-item::before {content: \"\";position: absolute;border-left: 1px solid gray;box-sizing: border-box;top: 0;bottom: 0;left: 50%;z-index: -1;}#sk-container-id-23 div.sk-parallel-item {display: flex;flex-direction: column;z-index: 1;position: relative;background-color: white;}#sk-container-id-23 div.sk-parallel-item:first-child::after {align-self: flex-end;width: 50%;}#sk-container-id-23 div.sk-parallel-item:last-child::after {align-self: flex-start;width: 50%;}#sk-container-id-23 div.sk-parallel-item:only-child::after {width: 0;}#sk-container-id-23 div.sk-dashed-wrapped {border: 1px dashed gray;margin: 0 0.4em 0.5em 0.4em;box-sizing: border-box;padding-bottom: 0.4em;background-color: white;}#sk-container-id-23 div.sk-label label {font-family: monospace;font-weight: bold;display: inline-block;line-height: 1.2em;}#sk-container-id-23 div.sk-label-container {text-align: center;}#sk-container-id-23 div.sk-container {/* jupyter's `normalize.less` sets `[hidden] { display: none; }` but bootstrap.min.css set `[hidden] { display: none !important; }` so we also need the `!important` here to be able to override the default hidden behavior on the sphinx rendered scikit-learn.org. See: https://github.com/scikit-learn/scikit-learn/issues/21755 */display: inline-block !important;position: relative;}#sk-container-id-23 div.sk-text-repr-fallback {display: none;}</style><div id=\"sk-container-id-23\" class=\"sk-top-container\"><div class=\"sk-text-repr-fallback\"><pre>RandomForestRegressor()</pre><b>In a Jupyter environment, please rerun this cell to show the HTML representation or trust the notebook. <br />On GitHub, the HTML representation is unable to render, please try loading this page with nbviewer.org.</b></div><div class=\"sk-container\" hidden><div class=\"sk-item\"><div class=\"sk-estimator sk-toggleable\"><input class=\"sk-toggleable__control sk-hidden--visually\" id=\"sk-estimator-id-23\" type=\"checkbox\" checked><label for=\"sk-estimator-id-23\" class=\"sk-toggleable__label sk-toggleable__label-arrow\">RandomForestRegressor</label><div class=\"sk-toggleable__content\"><pre>RandomForestRegressor()</pre></div></div></div></div></div>"
      ],
      "text/plain": [
       "RandomForestRegressor()"
      ]
     },
     "execution_count": 194,
     "metadata": {},
     "output_type": "execute_result"
    }
   ],
   "source": [
    "forest.fit(X_train,y_train)"
   ]
  },
  {
   "cell_type": "code",
   "execution_count": 195,
   "id": "dffc692d-cb5b-4fec-afb5-1aaa4f1f3fc5",
   "metadata": {},
   "outputs": [
    {
     "data": {
      "text/plain": [
       "0.6744432311963391"
      ]
     },
     "execution_count": 195,
     "metadata": {},
     "output_type": "execute_result"
    }
   ],
   "source": [
    "forest.score(projected_data,projected_label)"
   ]
  },
  {
   "cell_type": "code",
   "execution_count": null,
   "id": "b3b873f4-88ed-49a2-b4ba-0bb013dfc145",
   "metadata": {},
   "outputs": [],
   "source": []
  }
 ],
 "metadata": {
  "kernelspec": {
   "display_name": "Python 3 (ipykernel)",
   "language": "python",
   "name": "python3"
  },
  "language_info": {
   "codemirror_mode": {
    "name": "ipython",
    "version": 3
   },
   "file_extension": ".py",
   "mimetype": "text/x-python",
   "name": "python",
   "nbconvert_exporter": "python",
   "pygments_lexer": "ipython3",
   "version": "3.11.1"
  }
 },
 "nbformat": 4,
 "nbformat_minor": 5
}
